{
 "cells": [
  {
   "cell_type": "code",
   "execution_count": 2,
   "metadata": {},
   "outputs": [],
   "source": [
    "# !python make_dataset.py\n",
    "# !python train_knn_model.py"
   ]
  },
  {
   "cell_type": "code",
   "execution_count": 3,
   "metadata": {},
   "outputs": [],
   "source": [
    "from cascade.models import ModelRepo\n",
    "from cascade.meta import MetricViewer\n",
    "from cascade import data as cdd\n",
    "from cascade import utils as cdu"
   ]
  },
  {
   "cell_type": "code",
   "execution_count": 4,
   "metadata": {},
   "outputs": [],
   "source": [
    "from xaib.explainers.example_selection.constant_explainer import ConstantExplainer\n",
    "from xaib.explainers.example_selection.random_explainer import RandomExplainer\n",
    "from xaib.explainers.example_selection.knn_explainer import KNNExplainer"
   ]
  },
  {
   "cell_type": "code",
   "execution_count": 5,
   "metadata": {},
   "outputs": [],
   "source": [
    "import os\n",
    "import sys\n",
    "\n",
    "sys.path.append(os.path.abspath('..'))\n",
    "from utils import case"
   ]
  },
  {
   "cell_type": "code",
   "execution_count": 6,
   "metadata": {},
   "outputs": [],
   "source": [
    "BS = 5"
   ]
  },
  {
   "cell_type": "code",
   "execution_count": 7,
   "metadata": {},
   "outputs": [
    {
     "data": {
      "text/plain": [
       "ModelRepo in repo of 0 lines"
      ]
     },
     "execution_count": 7,
     "metadata": {},
     "output_type": "execute_result"
    }
   ],
   "source": [
    "# Overwrite previous run\n",
    "ModelRepo('repo', overwrite=True)"
   ]
  },
  {
   "cell_type": "code",
   "execution_count": 14,
   "metadata": {},
   "outputs": [],
   "source": [
    "train_ds = cdd.Pickler('train_ds').ds()\n",
    "test_ds = cdd.Pickler('test_ds')\n",
    "n_features = train_ds.get_meta()[0]['n_features']\n",
    "model = cdu.SkModel()\n",
    "model.load('model')"
   ]
  },
  {
   "cell_type": "code",
   "execution_count": 15,
   "metadata": {},
   "outputs": [],
   "source": [
    "explainers = {\n",
    "    'const': ConstantExplainer(train_ds, train_ds[0]['item']),\n",
    "    'random': RandomExplainer(train_ds),\n",
    "    'shap': KNNExplainer(train_ds)\n",
    "}"
   ]
  },
  {
   "cell_type": "code",
   "execution_count": 16,
   "metadata": {},
   "outputs": [],
   "source": [
    "from xaib.cases.example_selection import ContinuityCase\n",
    "from utils import NoiseApplier\n",
    "\n",
    "\n",
    "MULTIPLIER = 0.01\n",
    "\n",
    "@case(explainers=explainers, batch_size=BS)\n",
    "def continuity() -> None:\n",
    "    test_ds_noisy = NoiseApplier(test_ds, multiplier=MULTIPLIER)\n",
    "\n",
    "    return ContinuityCase(test_ds, test_ds_noisy, model, multiplier=MULTIPLIER)"
   ]
  },
  {
   "cell_type": "code",
   "execution_count": 17,
   "metadata": {},
   "outputs": [
    {
     "name": "stderr",
     "output_type": "stream",
     "text": [
      "20it [00:00, 3176.06it/s]\n",
      "20it [00:00, 1926.56it/s]\n",
      "20it [00:00, 343.91it/s]\n"
     ]
    }
   ],
   "source": [
    "continuity()"
   ]
  },
  {
   "cell_type": "code",
   "execution_count": 19,
   "metadata": {},
   "outputs": [
    {
     "data": {
      "text/html": [
       "<div>\n",
       "<style scoped>\n",
       "    .dataframe tbody tr th:only-of-type {\n",
       "        vertical-align: middle;\n",
       "    }\n",
       "\n",
       "    .dataframe tbody tr th {\n",
       "        vertical-align: top;\n",
       "    }\n",
       "\n",
       "    .dataframe thead th {\n",
       "        text-align: right;\n",
       "    }\n",
       "</style>\n",
       "<table border=\"1\" class=\"dataframe\">\n",
       "  <thead>\n",
       "    <tr style=\"text-align: right;\">\n",
       "      <th></th>\n",
       "      <th>line</th>\n",
       "      <th>num</th>\n",
       "      <th>created_at</th>\n",
       "      <th>saved</th>\n",
       "      <th>small_noise_check</th>\n",
       "      <th>multiplier</th>\n",
       "      <th>name</th>\n",
       "    </tr>\n",
       "  </thead>\n",
       "  <tbody>\n",
       "    <tr>\n",
       "      <th>0</th>\n",
       "      <td>repo\\00000</td>\n",
       "      <td>0</td>\n",
       "      <td>2023-02-25T19:53:44.652541+00:00</td>\n",
       "      <td>a few seconds after</td>\n",
       "      <td>1.00</td>\n",
       "      <td>0.01</td>\n",
       "      <td>const</td>\n",
       "    </tr>\n",
       "    <tr>\n",
       "      <th>1</th>\n",
       "      <td>repo\\00000</td>\n",
       "      <td>1</td>\n",
       "      <td>2023-02-25T19:53:44.652541+00:00</td>\n",
       "      <td>a few seconds after</td>\n",
       "      <td>0.00</td>\n",
       "      <td>0.01</td>\n",
       "      <td>random</td>\n",
       "    </tr>\n",
       "    <tr>\n",
       "      <th>2</th>\n",
       "      <td>repo\\00000</td>\n",
       "      <td>2</td>\n",
       "      <td>2023-02-25T19:53:44.652541+00:00</td>\n",
       "      <td>a few seconds after</td>\n",
       "      <td>0.98</td>\n",
       "      <td>0.01</td>\n",
       "      <td>shap</td>\n",
       "    </tr>\n",
       "  </tbody>\n",
       "</table>\n",
       "</div>"
      ],
      "text/plain": [
       "         line  num                        created_at                saved  \\\n",
       "0  repo\\00000    0  2023-02-25T19:53:44.652541+00:00  a few seconds after   \n",
       "1  repo\\00000    1  2023-02-25T19:53:44.652541+00:00  a few seconds after   \n",
       "2  repo\\00000    2  2023-02-25T19:53:44.652541+00:00  a few seconds after   \n",
       "\n",
       "   small_noise_check  multiplier    name  \n",
       "0               1.00        0.01   const  \n",
       "1               0.00        0.01  random  \n",
       "2               0.98        0.01    shap  "
      ]
     },
     "execution_count": 19,
     "metadata": {},
     "output_type": "execute_result"
    }
   ],
   "source": [
    "repo = ModelRepo('repo')\n",
    "t = MetricViewer(repo).table\n",
    "t"
   ]
  }
 ],
 "metadata": {
  "kernelspec": {
   "display_name": "Python 3",
   "language": "python",
   "name": "python3"
  },
  "language_info": {
   "codemirror_mode": {
    "name": "ipython",
    "version": 3
   },
   "file_extension": ".py",
   "mimetype": "text/x-python",
   "name": "python",
   "nbconvert_exporter": "python",
   "pygments_lexer": "ipython3",
   "version": "3.10.4"
  },
  "orig_nbformat": 4,
  "vscode": {
   "interpreter": {
    "hash": "87f4f7b13864d85c4a2c9cc8379c2fc28050103468031879c35c8b8ef7dd6990"
   }
  }
 },
 "nbformat": 4,
 "nbformat_minor": 2
}
