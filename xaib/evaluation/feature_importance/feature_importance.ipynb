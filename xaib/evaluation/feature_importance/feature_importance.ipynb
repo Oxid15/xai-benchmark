{
 "cells": [
  {
   "cell_type": "code",
   "execution_count": 10,
   "metadata": {},
   "outputs": [
    {
     "name": "stdout",
     "output_type": "stream",
     "text": [
      "[{'len': 990, 'name': '<cascade.data.pickler.Pickler', 'type': 'dataset'},\n",
      " {'len': 990,\n",
      "  'n_features': 2,\n",
      "  'name': '<cascade.data.range_sampler.RangeSampler',\n",
      "  'type': 'dataset'},\n",
      " {'name': '<utils.utils.MakeClassificationDataset', 'type': 'dataset'}]\n",
      "[{'len': 10, 'name': '<cascade.data.pickler.Pickler', 'type': 'dataset'},\n",
      " {'len': 10,\n",
      "  'name': '<cascade.data.range_sampler.RangeSampler',\n",
      "  'type': 'dataset'},\n",
      " {'name': '<utils.utils.MakeClassificationDataset', 'type': 'dataset'}]\n",
      "Figure(640x480)\n"
     ]
    },
    {
     "name": "stderr",
     "output_type": "stream",
     "text": [
      "The system cannot find the path specified.\n"
     ]
    },
    {
     "name": "stdout",
     "output_type": "stream",
     "text": [
      "{'f1': 0.9644268774703558}\n"
     ]
    },
    {
     "name": "stderr",
     "output_type": "stream",
     "text": [
      "The system cannot find the path specified.\n"
     ]
    }
   ],
   "source": [
    "!python make_dataset.py\n",
    "!python train_model.py"
   ]
  },
  {
   "cell_type": "code",
   "execution_count": 2,
   "metadata": {},
   "outputs": [],
   "source": [
    "from cascade.models import ModelRepo\n",
    "from cascade.meta import MetricViewer\n",
    "from cascade import data as cdd"
   ]
  },
  {
   "cell_type": "code",
   "execution_count": 1,
   "metadata": {},
   "outputs": [
    {
     "name": "stderr",
     "output_type": "stream",
     "text": [
      "c:\\xaib-experiments\\venv3.8\\lib\\site-packages\\tqdm\\auto.py:22: TqdmWarning: IProgress not found. Please update jupyter and ipywidgets. See https://ipywidgets.readthedocs.io/en/stable/user_install.html\n",
      "  from .autonotebook import tqdm as notebook_tqdm\n"
     ]
    }
   ],
   "source": [
    "from correctness import correctness\n",
    "from continuity import continuity\n",
    "from contrastivity import contrastivity\n",
    "from coherence import coherence"
   ]
  },
  {
   "cell_type": "code",
   "execution_count": 3,
   "metadata": {},
   "outputs": [],
   "source": [
    "from xaib.explainers.feature_importance.constant_explainer import ConstantExplainer\n",
    "from xaib.explainers.feature_importance.random_explainer import RandomExplainer\n",
    "from xaib.explainers.feature_importance.shap_explainer import ShapExplainer\n",
    "from xaib.explainers.feature_importance.lime_explainer import LimeExplainer"
   ]
  },
  {
   "cell_type": "code",
   "execution_count": 4,
   "metadata": {},
   "outputs": [],
   "source": [
    "BS = 20"
   ]
  },
  {
   "cell_type": "code",
   "execution_count": 5,
   "metadata": {},
   "outputs": [],
   "source": [
    "train_ds = cdd.Pickler('train_ds')"
   ]
  },
  {
   "cell_type": "code",
   "execution_count": 15,
   "metadata": {},
   "outputs": [],
   "source": [
    "explainers = {    \n",
    "    'const': ConstantExplainer(n_features=2, constant=1),\n",
    "    'random': RandomExplainer(n_features=2),\n",
    "    'shap': ShapExplainer(train_ds),\n",
    "    'lime': LimeExplainer(train_ds, labels=(0, 1))\n",
    "}"
   ]
  },
  {
   "cell_type": "code",
   "execution_count": 16,
   "metadata": {},
   "outputs": [
    {
     "name": "stderr",
     "output_type": "stream",
     "text": [
      "100%|██████████| 1/1 [00:00<00:00, 5356.71it/s]\n",
      "100%|██████████| 1/1 [00:00<00:00, 500.93it/s]\n",
      "100%|██████████| 1/1 [00:00<00:00,  2.60it/s]\n",
      "100%|██████████| 1/1 [00:01<00:00,  1.95s/it]\n"
     ]
    }
   ],
   "source": [
    "correctness(explainers, batch_size=BS)"
   ]
  },
  {
   "cell_type": "code",
   "execution_count": 17,
   "metadata": {},
   "outputs": [
    {
     "name": "stderr",
     "output_type": "stream",
     "text": [
      "1it [00:00, 420.48it/s]\n",
      "1it [00:00, 333.52it/s]\n",
      "1it [00:00,  1.41it/s]\n",
      "1it [00:05,  5.70s/it]\n"
     ]
    }
   ],
   "source": [
    "continuity(explainers, batch_size=BS)"
   ]
  },
  {
   "cell_type": "code",
   "execution_count": 18,
   "metadata": {},
   "outputs": [
    {
     "name": "stderr",
     "output_type": "stream",
     "text": [
      "100%|██████████| 1/1 [00:00<00:00, 1001.74it/s]         \n",
      "100%|██████████| 1/1 [00:00<00:00, 1002.70it/s]\n",
      "100%|██████████| 1/1 [00:00<00:00, 3669.56it/s]         \n",
      "100%|██████████| 1/1 [00:00<00:00, 3123.09it/s]\n",
      "100%|██████████| 1/1 [00:00<00:00, 34.58it/s]           \n",
      "100%|██████████| 1/1 [00:00<00:00, 62.48it/s]\n",
      "100%|██████████| 1/1 [00:00<00:00,  3.07it/s]           \n",
      "100%|██████████| 1/1 [00:00<00:00,  4.97it/s]\n"
     ]
    }
   ],
   "source": [
    "contrastivity(explainers, batch_size=BS)"
   ]
  },
  {
   "cell_type": "code",
   "execution_count": 19,
   "metadata": {},
   "outputs": [
    {
     "name": "stderr",
     "output_type": "stream",
     "text": [
      "100%|██████████| 1/1 [00:02<00:00,  2.74s/it]\n",
      "100%|██████████| 1/1 [00:02<00:00,  2.07s/it]\n",
      "100%|██████████| 1/1 [00:01<00:00,  1.99s/it]\n",
      "100%|██████████| 1/1 [00:02<00:00,  2.39s/it]\n"
     ]
    }
   ],
   "source": [
    "coherence(explainers, batch_size=BS)"
   ]
  },
  {
   "cell_type": "code",
   "execution_count": 20,
   "metadata": {},
   "outputs": [],
   "source": [
    "repo = ModelRepo('repo')"
   ]
  },
  {
   "cell_type": "code",
   "execution_count": 21,
   "metadata": {},
   "outputs": [
    {
     "data": {
      "text/html": [
       "<div>\n",
       "<style scoped>\n",
       "    .dataframe tbody tr th:only-of-type {\n",
       "        vertical-align: middle;\n",
       "    }\n",
       "\n",
       "    .dataframe tbody tr th {\n",
       "        vertical-align: top;\n",
       "    }\n",
       "\n",
       "    .dataframe thead th {\n",
       "        text-align: right;\n",
       "    }\n",
       "</style>\n",
       "<table border=\"1\" class=\"dataframe\">\n",
       "  <thead>\n",
       "    <tr style=\"text-align: right;\">\n",
       "      <th></th>\n",
       "      <th>line</th>\n",
       "      <th>num</th>\n",
       "      <th>created_at</th>\n",
       "      <th>saved</th>\n",
       "      <th>const</th>\n",
       "      <th>random</th>\n",
       "      <th>shap</th>\n",
       "      <th>lime</th>\n",
       "      <th>multiplier</th>\n",
       "    </tr>\n",
       "  </thead>\n",
       "  <tbody>\n",
       "    <tr>\n",
       "      <th>0</th>\n",
       "      <td>repo\\coherence</td>\n",
       "      <td>0</td>\n",
       "      <td>2022-11-30 20:21:51.244206+00:00</td>\n",
       "      <td>a few seconds after</td>\n",
       "      <td>{'coherence': {'other_disagreement': 1.2436576...</td>\n",
       "      <td>{'coherence': {'other_disagreement': 1.0107132...</td>\n",
       "      <td>{'coherence': {'other_disagreement': 1.6535776...</td>\n",
       "      <td>{'coherence': {'other_disagreement': 1.0427858...</td>\n",
       "      <td>NaN</td>\n",
       "    </tr>\n",
       "    <tr>\n",
       "      <th>1</th>\n",
       "      <td>repo\\continuity</td>\n",
       "      <td>0</td>\n",
       "      <td>2022-11-30 20:18:01.885616+00:00</td>\n",
       "      <td>a few seconds after</td>\n",
       "      <td>{'continuity': {'small_noise_check': 0.0}}</td>\n",
       "      <td>{'continuity': {'small_noise_check': 1.8942206...</td>\n",
       "      <td>{'continuity': {'small_noise_check': 0.0080858...</td>\n",
       "      <td>{'continuity': {'small_noise_check': 0.0137957...</td>\n",
       "      <td>0.01</td>\n",
       "    </tr>\n",
       "    <tr>\n",
       "      <th>2</th>\n",
       "      <td>repo\\continuity</td>\n",
       "      <td>1</td>\n",
       "      <td>2022-11-30 20:21:43.758447+00:00</td>\n",
       "      <td>a few seconds after</td>\n",
       "      <td>{'continuity': {'small_noise_check': 0.0}}</td>\n",
       "      <td>{'continuity': {'small_noise_check': 0.4055181...</td>\n",
       "      <td>{'continuity': {'small_noise_check': 0.0095286...</td>\n",
       "      <td>{'continuity': {'small_noise_check': 0.0135436...</td>\n",
       "      <td>0.01</td>\n",
       "    </tr>\n",
       "    <tr>\n",
       "      <th>3</th>\n",
       "      <td>repo\\contrastivity</td>\n",
       "      <td>0</td>\n",
       "      <td>2022-11-30 20:18:07.240009+00:00</td>\n",
       "      <td>a few seconds after</td>\n",
       "      <td>{'contrastivity': {'label_difference': 0.0}}</td>\n",
       "      <td>{'contrastivity': {'label_difference': 1.76665...</td>\n",
       "      <td>{'contrastivity': {'label_difference': 1.48100...</td>\n",
       "      <td>{'contrastivity': {'label_difference': 0.04608...</td>\n",
       "      <td>NaN</td>\n",
       "    </tr>\n",
       "    <tr>\n",
       "      <th>4</th>\n",
       "      <td>repo\\contrastivity</td>\n",
       "      <td>1</td>\n",
       "      <td>2022-11-30 20:21:50.348815+00:00</td>\n",
       "      <td>a few seconds after</td>\n",
       "      <td>{'contrastivity': {'label_difference': 0.0}}</td>\n",
       "      <td>{'contrastivity': {'label_difference': 0.62942...</td>\n",
       "      <td>{'contrastivity': {'label_difference': 1.48100...</td>\n",
       "      <td>{'contrastivity': {'label_difference': 0.04470...</td>\n",
       "      <td>NaN</td>\n",
       "    </tr>\n",
       "    <tr>\n",
       "      <th>5</th>\n",
       "      <td>repo\\correctness</td>\n",
       "      <td>0</td>\n",
       "      <td>2022-11-29 20:10:11.999189+00:00</td>\n",
       "      <td>12 seconds after</td>\n",
       "      <td>{'correctness': {'parameter_randomization_chec...</td>\n",
       "      <td>{'correctness': {'parameter_randomization_chec...</td>\n",
       "      <td>{'correctness': {'parameter_randomization_chec...</td>\n",
       "      <td>{'correctness': {'parameter_randomization_chec...</td>\n",
       "      <td>NaN</td>\n",
       "    </tr>\n",
       "    <tr>\n",
       "      <th>6</th>\n",
       "      <td>repo\\correctness</td>\n",
       "      <td>1</td>\n",
       "      <td>2022-11-30 19:58:11.593395+00:00</td>\n",
       "      <td>12 seconds after</td>\n",
       "      <td>{'correctness': {'parameter_randomization_chec...</td>\n",
       "      <td>{'correctness': {'parameter_randomization_chec...</td>\n",
       "      <td>{'correctness': {'parameter_randomization_chec...</td>\n",
       "      <td>{'correctness': {'parameter_randomization_chec...</td>\n",
       "      <td>NaN</td>\n",
       "    </tr>\n",
       "    <tr>\n",
       "      <th>7</th>\n",
       "      <td>repo\\correctness</td>\n",
       "      <td>2</td>\n",
       "      <td>2022-11-30 20:01:05.668468+00:00</td>\n",
       "      <td>13 seconds after</td>\n",
       "      <td>{'correctness': {'parameter_randomization_chec...</td>\n",
       "      <td>{'correctness': {'parameter_randomization_chec...</td>\n",
       "      <td>{'correctness': {'parameter_randomization_chec...</td>\n",
       "      <td>{'correctness': {'parameter_randomization_chec...</td>\n",
       "      <td>NaN</td>\n",
       "    </tr>\n",
       "    <tr>\n",
       "      <th>8</th>\n",
       "      <td>repo\\correctness</td>\n",
       "      <td>3</td>\n",
       "      <td>2022-11-30 20:17:47.855434+00:00</td>\n",
       "      <td>a few seconds after</td>\n",
       "      <td>{'correctness': {'parameter_randomization_chec...</td>\n",
       "      <td>{'correctness': {'parameter_randomization_chec...</td>\n",
       "      <td>{'correctness': {'parameter_randomization_chec...</td>\n",
       "      <td>{'correctness': {'parameter_randomization_chec...</td>\n",
       "      <td>NaN</td>\n",
       "    </tr>\n",
       "    <tr>\n",
       "      <th>9</th>\n",
       "      <td>repo\\correctness</td>\n",
       "      <td>4</td>\n",
       "      <td>2022-11-30 20:21:41.197658+00:00</td>\n",
       "      <td>a few seconds after</td>\n",
       "      <td>{'correctness': {'parameter_randomization_chec...</td>\n",
       "      <td>{'correctness': {'parameter_randomization_chec...</td>\n",
       "      <td>{'correctness': {'parameter_randomization_chec...</td>\n",
       "      <td>{'correctness': {'parameter_randomization_chec...</td>\n",
       "      <td>NaN</td>\n",
       "    </tr>\n",
       "  </tbody>\n",
       "</table>\n",
       "</div>"
      ],
      "text/plain": [
       "                 line  num                       created_at  \\\n",
       "0      repo\\coherence    0 2022-11-30 20:21:51.244206+00:00   \n",
       "1     repo\\continuity    0 2022-11-30 20:18:01.885616+00:00   \n",
       "2     repo\\continuity    1 2022-11-30 20:21:43.758447+00:00   \n",
       "3  repo\\contrastivity    0 2022-11-30 20:18:07.240009+00:00   \n",
       "4  repo\\contrastivity    1 2022-11-30 20:21:50.348815+00:00   \n",
       "5    repo\\correctness    0 2022-11-29 20:10:11.999189+00:00   \n",
       "6    repo\\correctness    1 2022-11-30 19:58:11.593395+00:00   \n",
       "7    repo\\correctness    2 2022-11-30 20:01:05.668468+00:00   \n",
       "8    repo\\correctness    3 2022-11-30 20:17:47.855434+00:00   \n",
       "9    repo\\correctness    4 2022-11-30 20:21:41.197658+00:00   \n",
       "\n",
       "                 saved                                              const  \\\n",
       "0  a few seconds after  {'coherence': {'other_disagreement': 1.2436576...   \n",
       "1  a few seconds after         {'continuity': {'small_noise_check': 0.0}}   \n",
       "2  a few seconds after         {'continuity': {'small_noise_check': 0.0}}   \n",
       "3  a few seconds after       {'contrastivity': {'label_difference': 0.0}}   \n",
       "4  a few seconds after       {'contrastivity': {'label_difference': 0.0}}   \n",
       "5     12 seconds after  {'correctness': {'parameter_randomization_chec...   \n",
       "6     12 seconds after  {'correctness': {'parameter_randomization_chec...   \n",
       "7     13 seconds after  {'correctness': {'parameter_randomization_chec...   \n",
       "8  a few seconds after  {'correctness': {'parameter_randomization_chec...   \n",
       "9  a few seconds after  {'correctness': {'parameter_randomization_chec...   \n",
       "\n",
       "                                              random  \\\n",
       "0  {'coherence': {'other_disagreement': 1.0107132...   \n",
       "1  {'continuity': {'small_noise_check': 1.8942206...   \n",
       "2  {'continuity': {'small_noise_check': 0.4055181...   \n",
       "3  {'contrastivity': {'label_difference': 1.76665...   \n",
       "4  {'contrastivity': {'label_difference': 0.62942...   \n",
       "5  {'correctness': {'parameter_randomization_chec...   \n",
       "6  {'correctness': {'parameter_randomization_chec...   \n",
       "7  {'correctness': {'parameter_randomization_chec...   \n",
       "8  {'correctness': {'parameter_randomization_chec...   \n",
       "9  {'correctness': {'parameter_randomization_chec...   \n",
       "\n",
       "                                                shap  \\\n",
       "0  {'coherence': {'other_disagreement': 1.6535776...   \n",
       "1  {'continuity': {'small_noise_check': 0.0080858...   \n",
       "2  {'continuity': {'small_noise_check': 0.0095286...   \n",
       "3  {'contrastivity': {'label_difference': 1.48100...   \n",
       "4  {'contrastivity': {'label_difference': 1.48100...   \n",
       "5  {'correctness': {'parameter_randomization_chec...   \n",
       "6  {'correctness': {'parameter_randomization_chec...   \n",
       "7  {'correctness': {'parameter_randomization_chec...   \n",
       "8  {'correctness': {'parameter_randomization_chec...   \n",
       "9  {'correctness': {'parameter_randomization_chec...   \n",
       "\n",
       "                                                lime  multiplier  \n",
       "0  {'coherence': {'other_disagreement': 1.0427858...         NaN  \n",
       "1  {'continuity': {'small_noise_check': 0.0137957...        0.01  \n",
       "2  {'continuity': {'small_noise_check': 0.0135436...        0.01  \n",
       "3  {'contrastivity': {'label_difference': 0.04608...         NaN  \n",
       "4  {'contrastivity': {'label_difference': 0.04470...         NaN  \n",
       "5  {'correctness': {'parameter_randomization_chec...         NaN  \n",
       "6  {'correctness': {'parameter_randomization_chec...         NaN  \n",
       "7  {'correctness': {'parameter_randomization_chec...         NaN  \n",
       "8  {'correctness': {'parameter_randomization_chec...         NaN  \n",
       "9  {'correctness': {'parameter_randomization_chec...         NaN  "
      ]
     },
     "execution_count": 21,
     "metadata": {},
     "output_type": "execute_result"
    }
   ],
   "source": [
    "MetricViewer(repo).table"
   ]
  }
 ],
 "metadata": {
  "kernelspec": {
   "display_name": "Python 3.8.10 ('venv3.8': venv)",
   "language": "python",
   "name": "python3"
  },
  "language_info": {
   "codemirror_mode": {
    "name": "ipython",
    "version": 3
   },
   "file_extension": ".py",
   "mimetype": "text/x-python",
   "name": "python",
   "nbconvert_exporter": "python",
   "pygments_lexer": "ipython3",
   "version": "3.8.10"
  },
  "orig_nbformat": 4,
  "vscode": {
   "interpreter": {
    "hash": "7bb2890174899d79f80719b5dd106e54858d3d485c376b2d584da9fed4042585"
   }
  }
 },
 "nbformat": 4,
 "nbformat_minor": 2
}
