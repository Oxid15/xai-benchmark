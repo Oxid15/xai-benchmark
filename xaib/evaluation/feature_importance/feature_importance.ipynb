{
 "cells": [
  {
   "cell_type": "code",
   "execution_count": 2,
   "metadata": {},
   "outputs": [],
   "source": [
    "# !python make_dataset.py\n",
    "# !python train_model.py"
   ]
  },
  {
   "cell_type": "code",
   "execution_count": 3,
   "metadata": {},
   "outputs": [],
   "source": [
    "from cascade.models import ModelRepo\n",
    "from cascade.meta import MetricViewer\n",
    "from cascade import data as cdd\n",
    "from cascade import utils as cdu"
   ]
  },
  {
   "cell_type": "code",
   "execution_count": 4,
   "metadata": {},
   "outputs": [],
   "source": [
    "from xaib.explainers.feature_importance.constant_explainer import ConstantExplainer\n",
    "from xaib.explainers.feature_importance.random_explainer import RandomExplainer\n",
    "from xaib.explainers.feature_importance.shap_explainer import ShapExplainer\n",
    "from xaib.explainers.feature_importance.lime_explainer import LimeExplainer"
   ]
  },
  {
   "cell_type": "code",
   "execution_count": 5,
   "metadata": {},
   "outputs": [],
   "source": [
    "import os\n",
    "import sys\n",
    "\n",
    "sys.path.append(os.path.abspath('..'))\n",
    "from utils import case"
   ]
  },
  {
   "cell_type": "code",
   "execution_count": 6,
   "metadata": {},
   "outputs": [],
   "source": [
    "BS = 5"
   ]
  },
  {
   "cell_type": "code",
   "execution_count": 7,
   "metadata": {},
   "outputs": [
    {
     "data": {
      "text/plain": [
       "ModelRepo in repo of 0 lines"
      ]
     },
     "execution_count": 7,
     "metadata": {},
     "output_type": "execute_result"
    }
   ],
   "source": [
    "# Overwrite previous run\n",
    "ModelRepo('repo', overwrite=True)"
   ]
  },
  {
   "cell_type": "code",
   "execution_count": 8,
   "metadata": {},
   "outputs": [],
   "source": [
    "train_ds = cdd.Pickler('train_ds').ds()\n",
    "test_ds = cdd.Pickler('test_ds').ds()\n",
    "n_features = train_ds.get_meta()[0]['n_features']\n",
    "\n",
    "model = cdu.SkModel()\n",
    "model.load('svm')"
   ]
  },
  {
   "cell_type": "code",
   "execution_count": 9,
   "metadata": {},
   "outputs": [],
   "source": [
    "explainers = {\n",
    "    'const': ConstantExplainer(n_features=n_features, constant=1),\n",
    "    'random': RandomExplainer(n_features=n_features, shift=-15, magnitude=10),\n",
    "    # 'shap': ShapExplainer(train_ds),\n",
    "    # 'lime': LimeExplainer(train_ds, labels=(0, 1))\n",
    "}"
   ]
  },
  {
   "cell_type": "code",
   "execution_count": 10,
   "metadata": {},
   "outputs": [],
   "source": [
    "from xaib.cases.feature_importance import CorrectnessCase\n",
    "\n",
    "from utils import RandomBinBaseline\n",
    "\n",
    "@case(explainers=explainers, batch_size=BS)\n",
    "def correctness():\n",
    "    noisy_model = RandomBinBaseline()\n",
    "\n",
    "    c = CorrectnessCase(test_ds, model, noisy_model)\n",
    "    return c"
   ]
  },
  {
   "cell_type": "code",
   "execution_count": 11,
   "metadata": {},
   "outputs": [
    {
     "name": "stderr",
     "output_type": "stream",
     "text": [
      "100%|██████████| 20/20 [00:00<00:00, 4454.92it/s]\n",
      "100%|██████████| 20/20 [00:00<00:00, 3381.96it/s]\n"
     ]
    }
   ],
   "source": [
    "correctness()"
   ]
  },
  {
   "cell_type": "code",
   "execution_count": 12,
   "metadata": {},
   "outputs": [],
   "source": [
    "from xaib.cases.feature_importance import ContinuityCase\n",
    "\n",
    "from utils import NoiseApplier\n",
    "\n",
    "MULTIPLIER = 0.01\n",
    "\n",
    "@case(explainers=explainers, batch_size=BS)\n",
    "def continuity() -> None:\n",
    "    test_ds_noisy = NoiseApplier(test_ds, multiplier=MULTIPLIER)\n",
    "\n",
    "    c = ContinuityCase(test_ds, test_ds_noisy, model, multiplier=MULTIPLIER)\n",
    "    return c"
   ]
  },
  {
   "cell_type": "code",
   "execution_count": 13,
   "metadata": {},
   "outputs": [
    {
     "name": "stderr",
     "output_type": "stream",
     "text": [
      "20it [00:00, 1434.44it/s]\n",
      "20it [00:00, 1543.73it/s]\n"
     ]
    }
   ],
   "source": [
    "continuity()"
   ]
  },
  {
   "cell_type": "code",
   "execution_count": 14,
   "metadata": {},
   "outputs": [],
   "source": [
    "from xaib.cases.feature_importance import ContrastivityCase\n",
    "\n",
    "@case(explainers=explainers, batch_size=BS)\n",
    "def contrastivity():\n",
    "    return ContrastivityCase(test_ds, model)"
   ]
  },
  {
   "cell_type": "code",
   "execution_count": 15,
   "metadata": {},
   "outputs": [
    {
     "name": "stderr",
     "output_type": "stream",
     "text": [
      "100%|██████████| 9/9 [00:00<00:00, 4232.40it/s]          \n",
      "100%|██████████| 9/9 [00:00<00:00, 2935.59it/s]\n",
      "100%|██████████| 9/9 [00:00<00:00, 4494.97it/s]          \n",
      "100%|██████████| 9/9 [00:00<00:00, 6922.56it/s]\n"
     ]
    }
   ],
   "source": [
    "contrastivity()"
   ]
  },
  {
   "cell_type": "code",
   "execution_count": 16,
   "metadata": {},
   "outputs": [],
   "source": [
    "from xaib.cases.feature_importance import CoherenceCase\n",
    "\n",
    "@case(explainers=explainers, expls=list(explainers.values()), batch_size=BS)\n",
    "def coherence():\n",
    "    return CoherenceCase(test_ds, model)"
   ]
  },
  {
   "cell_type": "code",
   "execution_count": 17,
   "metadata": {},
   "outputs": [
    {
     "name": "stderr",
     "output_type": "stream",
     "text": [
      "100%|██████████| 20/20 [00:00<00:00, 1719.12it/s]\n",
      "100%|██████████| 20/20 [00:00<00:00, 1774.73it/s]\n"
     ]
    }
   ],
   "source": [
    "coherence()"
   ]
  },
  {
   "cell_type": "code",
   "execution_count": 18,
   "metadata": {},
   "outputs": [],
   "source": [
    "from xaib.cases.feature_importance import CompactnessCase\n",
    "\n",
    "@case(explainers=explainers, batch_size=BS)\n",
    "def compactness():\n",
    "    return CompactnessCase(test_ds, model)"
   ]
  },
  {
   "cell_type": "code",
   "execution_count": 19,
   "metadata": {},
   "outputs": [
    {
     "name": "stderr",
     "output_type": "stream",
     "text": [
      "100%|██████████| 20/20 [00:00<00:00, 713.97it/s]\n",
      "100%|██████████| 20/20 [00:00<00:00, 487.52it/s]\n"
     ]
    }
   ],
   "source": [
    "compactness()"
   ]
  },
  {
   "cell_type": "code",
   "execution_count": 20,
   "metadata": {},
   "outputs": [],
   "source": [
    "from xaib.cases.feature_importance import CovariateComplexityCase\n",
    "\n",
    "@case(explainers=explainers, batch_size=BS)\n",
    "def covariate_complexity():\n",
    "    return CovariateComplexityCase(test_ds, model)"
   ]
  },
  {
   "cell_type": "code",
   "execution_count": 21,
   "metadata": {},
   "outputs": [
    {
     "name": "stderr",
     "output_type": "stream",
     "text": [
      "100%|██████████| 20/20 [00:00<00:00, 6661.86it/s]\n",
      "100%|██████████| 20/20 [00:00<00:00, 10009.08it/s]\n"
     ]
    }
   ],
   "source": [
    "covariate_complexity()"
   ]
  },
  {
   "cell_type": "code",
   "execution_count": 22,
   "metadata": {},
   "outputs": [],
   "source": [
    "repo = ModelRepo('repo')"
   ]
  },
  {
   "cell_type": "code",
   "execution_count": 23,
   "metadata": {},
   "outputs": [],
   "source": [
    "t = MetricViewer(repo).table"
   ]
  },
  {
   "cell_type": "code",
   "execution_count": 24,
   "metadata": {},
   "outputs": [
    {
     "data": {
      "text/html": [
       "<div>\n",
       "<style scoped>\n",
       "    .dataframe tbody tr th:only-of-type {\n",
       "        vertical-align: middle;\n",
       "    }\n",
       "\n",
       "    .dataframe tbody tr th {\n",
       "        vertical-align: top;\n",
       "    }\n",
       "\n",
       "    .dataframe thead th {\n",
       "        text-align: right;\n",
       "    }\n",
       "</style>\n",
       "<table border=\"1\" class=\"dataframe\">\n",
       "  <thead>\n",
       "    <tr style=\"text-align: right;\">\n",
       "      <th></th>\n",
       "      <th>line</th>\n",
       "      <th>num</th>\n",
       "      <th>created_at</th>\n",
       "      <th>saved</th>\n",
       "      <th>parameter_randomization_check</th>\n",
       "      <th>name</th>\n",
       "      <th>small_noise_check</th>\n",
       "      <th>multiplier</th>\n",
       "      <th>label_difference</th>\n",
       "      <th>other_disagreement</th>\n",
       "      <th>sparsity</th>\n",
       "      <th>covariate_regularity</th>\n",
       "    </tr>\n",
       "  </thead>\n",
       "  <tbody>\n",
       "    <tr>\n",
       "      <th>0</th>\n",
       "      <td>repo\\00000</td>\n",
       "      <td>0</td>\n",
       "      <td>2023-02-25 19:39:48.784778+00:00</td>\n",
       "      <td>a few seconds after</td>\n",
       "      <td>0.00000</td>\n",
       "      <td>const</td>\n",
       "      <td>NaN</td>\n",
       "      <td>NaN</td>\n",
       "      <td>NaN</td>\n",
       "      <td>NaN</td>\n",
       "      <td>NaN</td>\n",
       "      <td>NaN</td>\n",
       "    </tr>\n",
       "    <tr>\n",
       "      <th>1</th>\n",
       "      <td>repo\\00000</td>\n",
       "      <td>1</td>\n",
       "      <td>2023-02-25 19:39:48.784778+00:00</td>\n",
       "      <td>a few seconds after</td>\n",
       "      <td>1.28651</td>\n",
       "      <td>random</td>\n",
       "      <td>NaN</td>\n",
       "      <td>NaN</td>\n",
       "      <td>NaN</td>\n",
       "      <td>NaN</td>\n",
       "      <td>NaN</td>\n",
       "      <td>NaN</td>\n",
       "    </tr>\n",
       "    <tr>\n",
       "      <th>2</th>\n",
       "      <td>repo\\00001</td>\n",
       "      <td>0</td>\n",
       "      <td>2023-02-25 19:39:52.750110+00:00</td>\n",
       "      <td>a few seconds after</td>\n",
       "      <td>NaN</td>\n",
       "      <td>const</td>\n",
       "      <td>0.000000</td>\n",
       "      <td>0.01</td>\n",
       "      <td>NaN</td>\n",
       "      <td>NaN</td>\n",
       "      <td>NaN</td>\n",
       "      <td>NaN</td>\n",
       "    </tr>\n",
       "    <tr>\n",
       "      <th>3</th>\n",
       "      <td>repo\\00001</td>\n",
       "      <td>1</td>\n",
       "      <td>2023-02-25 19:39:52.750110+00:00</td>\n",
       "      <td>a few seconds after</td>\n",
       "      <td>NaN</td>\n",
       "      <td>random</td>\n",
       "      <td>1.276685</td>\n",
       "      <td>0.01</td>\n",
       "      <td>NaN</td>\n",
       "      <td>NaN</td>\n",
       "      <td>NaN</td>\n",
       "      <td>NaN</td>\n",
       "    </tr>\n",
       "    <tr>\n",
       "      <th>4</th>\n",
       "      <td>repo\\00002</td>\n",
       "      <td>0</td>\n",
       "      <td>2023-02-25 19:39:54.024788+00:00</td>\n",
       "      <td>a few seconds after</td>\n",
       "      <td>NaN</td>\n",
       "      <td>const</td>\n",
       "      <td>NaN</td>\n",
       "      <td>NaN</td>\n",
       "      <td>0.000000</td>\n",
       "      <td>NaN</td>\n",
       "      <td>NaN</td>\n",
       "      <td>NaN</td>\n",
       "    </tr>\n",
       "    <tr>\n",
       "      <th>5</th>\n",
       "      <td>repo\\00002</td>\n",
       "      <td>1</td>\n",
       "      <td>2023-02-25 19:39:54.024788+00:00</td>\n",
       "      <td>a few seconds after</td>\n",
       "      <td>NaN</td>\n",
       "      <td>random</td>\n",
       "      <td>NaN</td>\n",
       "      <td>NaN</td>\n",
       "      <td>1.360522</td>\n",
       "      <td>NaN</td>\n",
       "      <td>NaN</td>\n",
       "      <td>NaN</td>\n",
       "    </tr>\n",
       "    <tr>\n",
       "      <th>6</th>\n",
       "      <td>repo\\00003</td>\n",
       "      <td>0</td>\n",
       "      <td>2023-02-25 19:39:55.267382+00:00</td>\n",
       "      <td>a few seconds after</td>\n",
       "      <td>NaN</td>\n",
       "      <td>const</td>\n",
       "      <td>NaN</td>\n",
       "      <td>NaN</td>\n",
       "      <td>NaN</td>\n",
       "      <td>0.910392</td>\n",
       "      <td>NaN</td>\n",
       "      <td>NaN</td>\n",
       "    </tr>\n",
       "    <tr>\n",
       "      <th>7</th>\n",
       "      <td>repo\\00003</td>\n",
       "      <td>1</td>\n",
       "      <td>2023-02-25 19:39:55.267382+00:00</td>\n",
       "      <td>a few seconds after</td>\n",
       "      <td>NaN</td>\n",
       "      <td>random</td>\n",
       "      <td>NaN</td>\n",
       "      <td>NaN</td>\n",
       "      <td>NaN</td>\n",
       "      <td>1.579110</td>\n",
       "      <td>NaN</td>\n",
       "      <td>NaN</td>\n",
       "    </tr>\n",
       "    <tr>\n",
       "      <th>8</th>\n",
       "      <td>repo\\00004</td>\n",
       "      <td>0</td>\n",
       "      <td>2023-02-25 19:39:56.752295+00:00</td>\n",
       "      <td>a few seconds after</td>\n",
       "      <td>NaN</td>\n",
       "      <td>const</td>\n",
       "      <td>NaN</td>\n",
       "      <td>NaN</td>\n",
       "      <td>NaN</td>\n",
       "      <td>NaN</td>\n",
       "      <td>0.000000</td>\n",
       "      <td>NaN</td>\n",
       "    </tr>\n",
       "    <tr>\n",
       "      <th>9</th>\n",
       "      <td>repo\\00004</td>\n",
       "      <td>1</td>\n",
       "      <td>2023-02-25 19:39:56.752295+00:00</td>\n",
       "      <td>a few seconds after</td>\n",
       "      <td>NaN</td>\n",
       "      <td>random</td>\n",
       "      <td>NaN</td>\n",
       "      <td>NaN</td>\n",
       "      <td>NaN</td>\n",
       "      <td>NaN</td>\n",
       "      <td>0.326426</td>\n",
       "      <td>NaN</td>\n",
       "    </tr>\n",
       "    <tr>\n",
       "      <th>10</th>\n",
       "      <td>repo\\00005</td>\n",
       "      <td>0</td>\n",
       "      <td>2023-02-25 19:39:57.898630+00:00</td>\n",
       "      <td>a few seconds after</td>\n",
       "      <td>NaN</td>\n",
       "      <td>const</td>\n",
       "      <td>NaN</td>\n",
       "      <td>NaN</td>\n",
       "      <td>NaN</td>\n",
       "      <td>NaN</td>\n",
       "      <td>NaN</td>\n",
       "      <td>-0.000144</td>\n",
       "    </tr>\n",
       "    <tr>\n",
       "      <th>11</th>\n",
       "      <td>repo\\00005</td>\n",
       "      <td>1</td>\n",
       "      <td>2023-02-25 19:39:57.898630+00:00</td>\n",
       "      <td>a few seconds after</td>\n",
       "      <td>NaN</td>\n",
       "      <td>random</td>\n",
       "      <td>NaN</td>\n",
       "      <td>NaN</td>\n",
       "      <td>NaN</td>\n",
       "      <td>NaN</td>\n",
       "      <td>NaN</td>\n",
       "      <td>34.432604</td>\n",
       "    </tr>\n",
       "  </tbody>\n",
       "</table>\n",
       "</div>"
      ],
      "text/plain": [
       "          line  num                       created_at                saved  \\\n",
       "0   repo\\00000    0 2023-02-25 19:39:48.784778+00:00  a few seconds after   \n",
       "1   repo\\00000    1 2023-02-25 19:39:48.784778+00:00  a few seconds after   \n",
       "2   repo\\00001    0 2023-02-25 19:39:52.750110+00:00  a few seconds after   \n",
       "3   repo\\00001    1 2023-02-25 19:39:52.750110+00:00  a few seconds after   \n",
       "4   repo\\00002    0 2023-02-25 19:39:54.024788+00:00  a few seconds after   \n",
       "5   repo\\00002    1 2023-02-25 19:39:54.024788+00:00  a few seconds after   \n",
       "6   repo\\00003    0 2023-02-25 19:39:55.267382+00:00  a few seconds after   \n",
       "7   repo\\00003    1 2023-02-25 19:39:55.267382+00:00  a few seconds after   \n",
       "8   repo\\00004    0 2023-02-25 19:39:56.752295+00:00  a few seconds after   \n",
       "9   repo\\00004    1 2023-02-25 19:39:56.752295+00:00  a few seconds after   \n",
       "10  repo\\00005    0 2023-02-25 19:39:57.898630+00:00  a few seconds after   \n",
       "11  repo\\00005    1 2023-02-25 19:39:57.898630+00:00  a few seconds after   \n",
       "\n",
       "    parameter_randomization_check    name  small_noise_check  multiplier  \\\n",
       "0                         0.00000   const                NaN         NaN   \n",
       "1                         1.28651  random                NaN         NaN   \n",
       "2                             NaN   const           0.000000        0.01   \n",
       "3                             NaN  random           1.276685        0.01   \n",
       "4                             NaN   const                NaN         NaN   \n",
       "5                             NaN  random                NaN         NaN   \n",
       "6                             NaN   const                NaN         NaN   \n",
       "7                             NaN  random                NaN         NaN   \n",
       "8                             NaN   const                NaN         NaN   \n",
       "9                             NaN  random                NaN         NaN   \n",
       "10                            NaN   const                NaN         NaN   \n",
       "11                            NaN  random                NaN         NaN   \n",
       "\n",
       "    label_difference  other_disagreement  sparsity  covariate_regularity  \n",
       "0                NaN                 NaN       NaN                   NaN  \n",
       "1                NaN                 NaN       NaN                   NaN  \n",
       "2                NaN                 NaN       NaN                   NaN  \n",
       "3                NaN                 NaN       NaN                   NaN  \n",
       "4           0.000000                 NaN       NaN                   NaN  \n",
       "5           1.360522                 NaN       NaN                   NaN  \n",
       "6                NaN            0.910392       NaN                   NaN  \n",
       "7                NaN            1.579110       NaN                   NaN  \n",
       "8                NaN                 NaN  0.000000                   NaN  \n",
       "9                NaN                 NaN  0.326426                   NaN  \n",
       "10               NaN                 NaN       NaN             -0.000144  \n",
       "11               NaN                 NaN       NaN             34.432604  "
      ]
     },
     "execution_count": 24,
     "metadata": {},
     "output_type": "execute_result"
    }
   ],
   "source": [
    "t"
   ]
  },
  {
   "cell_type": "code",
   "execution_count": null,
   "metadata": {},
   "outputs": [],
   "source": []
  }
 ],
 "metadata": {
  "kernelspec": {
   "display_name": "Python 3.8.10 ('venv3.8': venv)",
   "language": "python",
   "name": "python3"
  },
  "language_info": {
   "codemirror_mode": {
    "name": "ipython",
    "version": 3
   },
   "file_extension": ".py",
   "mimetype": "text/x-python",
   "name": "python",
   "nbconvert_exporter": "python",
   "pygments_lexer": "ipython3",
   "version": "3.8.10"
  },
  "orig_nbformat": 4,
  "vscode": {
   "interpreter": {
    "hash": "7bb2890174899d79f80719b5dd106e54858d3d485c376b2d584da9fed4042585"
   }
  }
 },
 "nbformat": 4,
 "nbformat_minor": 2
}
