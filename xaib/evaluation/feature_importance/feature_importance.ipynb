{
 "cells": [
  {
   "cell_type": "code",
   "execution_count": 1,
   "metadata": {},
   "outputs": [
    {
     "name": "stdout",
     "output_type": "stream",
     "text": [
      "[{'len': 900, 'name': '<cascade.data.pickler.Pickler', 'type': 'dataset'},\n",
      " {'len': 900,\n",
      "  'n_features': 10,\n",
      "  'name': '<cascade.data.range_sampler.RangeSampler',\n",
      "  'type': 'dataset'},\n",
      " {'name': '<utils.utils.MakeClassificationDataset', 'type': 'dataset'}]\n",
      "[{'len': 100, 'name': '<cascade.data.pickler.Pickler', 'type': 'dataset'},\n",
      " {'len': 100,\n",
      "  'name': '<cascade.data.range_sampler.RangeSampler',\n",
      "  'type': 'dataset'},\n",
      " {'name': '<utils.utils.MakeClassificationDataset', 'type': 'dataset'}]\n"
     ]
    },
    {
     "name": "stderr",
     "output_type": "stream",
     "text": [
      "The system cannot find the path specified.\n"
     ]
    },
    {
     "name": "stdout",
     "output_type": "stream",
     "text": [
      "[{'name': '<cascade.utils.sk_model.SkModel object at 0x00000229AABDDAF0>', 'created_at': DateTime(2022, 12, 4, 11, 27, 53, 17143, tzinfo=Timezone('UTC')), 'metrics': {'f1': 0.9967141292442497}, 'params': {}, 'type': 'model', 'pipeline': \"Pipeline(steps=[('0', SVC(probability=True))])\"}]\n"
     ]
    },
    {
     "name": "stderr",
     "output_type": "stream",
     "text": [
      "The system cannot find the path specified.\n"
     ]
    }
   ],
   "source": [
    "!python make_dataset.py\n",
    "!python train_model.py"
   ]
  },
  {
   "cell_type": "code",
   "execution_count": 2,
   "metadata": {},
   "outputs": [],
   "source": [
    "from cascade.models import ModelRepo\n",
    "from cascade.meta import MetricViewer\n",
    "from cascade import data as cdd"
   ]
  },
  {
   "cell_type": "code",
   "execution_count": 3,
   "metadata": {},
   "outputs": [
    {
     "name": "stderr",
     "output_type": "stream",
     "text": [
      "c:\\xaib-experiments\\venv3.8\\lib\\site-packages\\tqdm\\auto.py:22: TqdmWarning: IProgress not found. Please update jupyter and ipywidgets. See https://ipywidgets.readthedocs.io/en/stable/user_install.html\n",
      "  from .autonotebook import tqdm as notebook_tqdm\n"
     ]
    }
   ],
   "source": [
    "from correctness import correctness\n",
    "from continuity import continuity\n",
    "from contrastivity import contrastivity\n",
    "from coherence import coherence"
   ]
  },
  {
   "cell_type": "code",
   "execution_count": 4,
   "metadata": {},
   "outputs": [],
   "source": [
    "from xaib.explainers.feature_importance.constant_explainer import ConstantExplainer\n",
    "from xaib.explainers.feature_importance.random_explainer import RandomExplainer\n",
    "from xaib.explainers.feature_importance.shap_explainer import ShapExplainer\n",
    "from xaib.explainers.feature_importance.lime_explainer import LimeExplainer"
   ]
  },
  {
   "cell_type": "code",
   "execution_count": 5,
   "metadata": {},
   "outputs": [],
   "source": [
    "BS = 100"
   ]
  },
  {
   "cell_type": "code",
   "execution_count": 6,
   "metadata": {},
   "outputs": [
    {
     "data": {
      "text/plain": [
       "ModelRepo in repo of 0 lines"
      ]
     },
     "execution_count": 6,
     "metadata": {},
     "output_type": "execute_result"
    }
   ],
   "source": [
    "# Overwrite previous run\n",
    "ModelRepo('repo', overwrite=True)"
   ]
  },
  {
   "cell_type": "code",
   "execution_count": 7,
   "metadata": {},
   "outputs": [],
   "source": [
    "train_ds = cdd.Pickler('train_ds').ds()\n",
    "n_features = train_ds.get_meta()[0]['n_features']"
   ]
  },
  {
   "cell_type": "code",
   "execution_count": 8,
   "metadata": {},
   "outputs": [],
   "source": [
    "explainers = {\n",
    "    'const': ConstantExplainer(n_features=n_features, constant=1),\n",
    "    'random': RandomExplainer(n_features=n_features, shift=-15, magnitude=10),\n",
    "    'shap': ShapExplainer(train_ds),\n",
    "    'lime': LimeExplainer(train_ds, labels=(0, 1))\n",
    "}"
   ]
  },
  {
   "cell_type": "code",
   "execution_count": 9,
   "metadata": {},
   "outputs": [
    {
     "name": "stderr",
     "output_type": "stream",
     "text": [
      "100%|██████████| 1/1 [00:00<00:00, 166.76it/s]\n",
      "100%|██████████| 1/1 [00:00<00:00, 111.12it/s]\n",
      "Exact explainer: 101it [03:27,  2.08s/it]\n",
      "Exact explainer: 101it [02:41,  1.72s/it]\n",
      "100%|██████████| 1/1 [06:09<00:00, 369.84s/it]\n",
      "100%|██████████| 1/1 [00:46<00:00, 46.79s/it]\n"
     ]
    }
   ],
   "source": [
    "correctness(explainers, batch_size=BS)"
   ]
  },
  {
   "cell_type": "code",
   "execution_count": 10,
   "metadata": {},
   "outputs": [
    {
     "name": "stderr",
     "output_type": "stream",
     "text": [
      "1it [00:00, 332.78it/s]\n",
      "1it [00:00, 200.26it/s]\n",
      "Exact explainer: 101it [03:19,  2.02s/it]\n",
      "Exact explainer: 101it [02:52,  1.82s/it]\n",
      "1it [06:12, 372.36s/it]\n",
      "1it [00:52, 52.90s/it]\n"
     ]
    }
   ],
   "source": [
    "continuity(explainers, batch_size=BS)"
   ]
  },
  {
   "cell_type": "code",
   "execution_count": 11,
   "metadata": {},
   "outputs": [
    {
     "name": "stderr",
     "output_type": "stream",
     "text": [
      "100%|██████████| 1/1 [00:00<00:00, 1000.79it/s]          \n",
      "100%|██████████| 1/1 [00:00<?, ?it/s]\n",
      "100%|██████████| 1/1 [00:00<00:00, 1002.94it/s]          \n",
      "100%|██████████| 1/1 [00:00<00:00, 501.29it/s]\n",
      "Exact explainer: 45it [01:34,  2.19s/it]                 \n",
      "100%|██████████| 1/1 [01:34<00:00, 94.14s/it]\n",
      "Exact explainer: 45it [01:13,  1.93s/it]\n",
      "100%|██████████| 1/1 [01:13<00:00, 73.34s/it]\n",
      "100%|██████████| 1/1 [00:23<00:00, 23.64s/it]            \n",
      "100%|██████████| 1/1 [00:13<00:00, 13.70s/it]\n"
     ]
    }
   ],
   "source": [
    "contrastivity(explainers, batch_size=BS)"
   ]
  },
  {
   "cell_type": "code",
   "execution_count": 12,
   "metadata": {},
   "outputs": [
    {
     "name": "stderr",
     "output_type": "stream",
     "text": [
      "Exact explainer: 101it [03:11,  1.94s/it]\n",
      "100%|██████████| 1/1 [03:27<00:00, 207.38s/it]\n",
      "Exact explainer: 101it [03:17,  2.00s/it]\n",
      "100%|██████████| 1/1 [03:32<00:00, 212.60s/it]\n",
      "Exact explainer: 101it [03:16,  1.99s/it]\n",
      "100%|██████████| 1/1 [03:32<00:00, 212.57s/it]\n",
      "Exact explainer: 101it [02:48,  1.79s/it]\n",
      "100%|██████████| 1/1 [03:27<00:00, 207.09s/it]\n"
     ]
    }
   ],
   "source": [
    "coherence(explainers, batch_size=BS)"
   ]
  },
  {
   "cell_type": "code",
   "execution_count": 13,
   "metadata": {},
   "outputs": [],
   "source": [
    "repo = ModelRepo('repo')"
   ]
  },
  {
   "cell_type": "code",
   "execution_count": 14,
   "metadata": {},
   "outputs": [],
   "source": [
    "t = MetricViewer(repo).table"
   ]
  },
  {
   "cell_type": "code",
   "execution_count": 15,
   "metadata": {},
   "outputs": [],
   "source": [
    "def present_metrics(case):\n",
    "    return t[t['line'].apply(lambda x: case in x)].dropna(axis=1)"
   ]
  },
  {
   "cell_type": "code",
   "execution_count": 16,
   "metadata": {},
   "outputs": [
    {
     "data": {
      "text/html": [
       "<div>\n",
       "<style scoped>\n",
       "    .dataframe tbody tr th:only-of-type {\n",
       "        vertical-align: middle;\n",
       "    }\n",
       "\n",
       "    .dataframe tbody tr th {\n",
       "        vertical-align: top;\n",
       "    }\n",
       "\n",
       "    .dataframe thead th {\n",
       "        text-align: right;\n",
       "    }\n",
       "</style>\n",
       "<table border=\"1\" class=\"dataframe\">\n",
       "  <thead>\n",
       "    <tr style=\"text-align: right;\">\n",
       "      <th></th>\n",
       "      <th>line</th>\n",
       "      <th>num</th>\n",
       "      <th>created_at</th>\n",
       "      <th>saved</th>\n",
       "      <th>name</th>\n",
       "      <th>parameter_randomization_check</th>\n",
       "    </tr>\n",
       "  </thead>\n",
       "  <tbody>\n",
       "    <tr>\n",
       "      <th>12</th>\n",
       "      <td>repo\\correctness</td>\n",
       "      <td>0</td>\n",
       "      <td>2022-12-04 11:28:02.015009+00:00</td>\n",
       "      <td>a few seconds after</td>\n",
       "      <td>const</td>\n",
       "      <td>0.000000</td>\n",
       "    </tr>\n",
       "    <tr>\n",
       "      <th>13</th>\n",
       "      <td>repo\\correctness</td>\n",
       "      <td>1</td>\n",
       "      <td>2022-12-04 11:28:02.015009+00:00</td>\n",
       "      <td>a few seconds after</td>\n",
       "      <td>random</td>\n",
       "      <td>1.289212</td>\n",
       "    </tr>\n",
       "    <tr>\n",
       "      <th>14</th>\n",
       "      <td>repo\\correctness</td>\n",
       "      <td>2</td>\n",
       "      <td>2022-12-04 11:28:02.015009+00:00</td>\n",
       "      <td>6 minutes after</td>\n",
       "      <td>shap</td>\n",
       "      <td>0.593295</td>\n",
       "    </tr>\n",
       "    <tr>\n",
       "      <th>15</th>\n",
       "      <td>repo\\correctness</td>\n",
       "      <td>3</td>\n",
       "      <td>2022-12-04 11:28:02.015009+00:00</td>\n",
       "      <td>6 minutes after</td>\n",
       "      <td>lime</td>\n",
       "      <td>0.678844</td>\n",
       "    </tr>\n",
       "  </tbody>\n",
       "</table>\n",
       "</div>"
      ],
      "text/plain": [
       "                line  num                       created_at  \\\n",
       "12  repo\\correctness    0 2022-12-04 11:28:02.015009+00:00   \n",
       "13  repo\\correctness    1 2022-12-04 11:28:02.015009+00:00   \n",
       "14  repo\\correctness    2 2022-12-04 11:28:02.015009+00:00   \n",
       "15  repo\\correctness    3 2022-12-04 11:28:02.015009+00:00   \n",
       "\n",
       "                  saved    name  parameter_randomization_check  \n",
       "12  a few seconds after   const                       0.000000  \n",
       "13  a few seconds after  random                       1.289212  \n",
       "14      6 minutes after    shap                       0.593295  \n",
       "15      6 minutes after    lime                       0.678844  "
      ]
     },
     "execution_count": 16,
     "metadata": {},
     "output_type": "execute_result"
    }
   ],
   "source": [
    "present_metrics('correctness')"
   ]
  },
  {
   "cell_type": "code",
   "execution_count": 17,
   "metadata": {},
   "outputs": [
    {
     "data": {
      "text/html": [
       "<div>\n",
       "<style scoped>\n",
       "    .dataframe tbody tr th:only-of-type {\n",
       "        vertical-align: middle;\n",
       "    }\n",
       "\n",
       "    .dataframe tbody tr th {\n",
       "        vertical-align: top;\n",
       "    }\n",
       "\n",
       "    .dataframe thead th {\n",
       "        text-align: right;\n",
       "    }\n",
       "</style>\n",
       "<table border=\"1\" class=\"dataframe\">\n",
       "  <thead>\n",
       "    <tr style=\"text-align: right;\">\n",
       "      <th></th>\n",
       "      <th>line</th>\n",
       "      <th>num</th>\n",
       "      <th>created_at</th>\n",
       "      <th>saved</th>\n",
       "      <th>name</th>\n",
       "      <th>small_noise_check</th>\n",
       "      <th>multiplier</th>\n",
       "    </tr>\n",
       "  </thead>\n",
       "  <tbody>\n",
       "    <tr>\n",
       "      <th>4</th>\n",
       "      <td>repo\\continuity</td>\n",
       "      <td>0</td>\n",
       "      <td>2022-12-04 11:34:58.920351+00:00</td>\n",
       "      <td>a few seconds after</td>\n",
       "      <td>const</td>\n",
       "      <td>0.000000</td>\n",
       "      <td>0.01</td>\n",
       "    </tr>\n",
       "    <tr>\n",
       "      <th>5</th>\n",
       "      <td>repo\\continuity</td>\n",
       "      <td>1</td>\n",
       "      <td>2022-12-04 11:34:58.920351+00:00</td>\n",
       "      <td>a few seconds after</td>\n",
       "      <td>random</td>\n",
       "      <td>1.285975</td>\n",
       "      <td>0.01</td>\n",
       "    </tr>\n",
       "    <tr>\n",
       "      <th>6</th>\n",
       "      <td>repo\\continuity</td>\n",
       "      <td>2</td>\n",
       "      <td>2022-12-04 11:34:58.920351+00:00</td>\n",
       "      <td>6 minutes after</td>\n",
       "      <td>shap</td>\n",
       "      <td>0.001257</td>\n",
       "      <td>0.01</td>\n",
       "    </tr>\n",
       "    <tr>\n",
       "      <th>7</th>\n",
       "      <td>repo\\continuity</td>\n",
       "      <td>3</td>\n",
       "      <td>2022-12-04 11:34:58.920351+00:00</td>\n",
       "      <td>7 minutes after</td>\n",
       "      <td>lime</td>\n",
       "      <td>0.062066</td>\n",
       "      <td>0.01</td>\n",
       "    </tr>\n",
       "  </tbody>\n",
       "</table>\n",
       "</div>"
      ],
      "text/plain": [
       "              line  num                       created_at                saved  \\\n",
       "4  repo\\continuity    0 2022-12-04 11:34:58.920351+00:00  a few seconds after   \n",
       "5  repo\\continuity    1 2022-12-04 11:34:58.920351+00:00  a few seconds after   \n",
       "6  repo\\continuity    2 2022-12-04 11:34:58.920351+00:00      6 minutes after   \n",
       "7  repo\\continuity    3 2022-12-04 11:34:58.920351+00:00      7 minutes after   \n",
       "\n",
       "     name  small_noise_check  multiplier  \n",
       "4   const           0.000000        0.01  \n",
       "5  random           1.285975        0.01  \n",
       "6    shap           0.001257        0.01  \n",
       "7    lime           0.062066        0.01  "
      ]
     },
     "execution_count": 17,
     "metadata": {},
     "output_type": "execute_result"
    }
   ],
   "source": [
    "present_metrics('continuity')"
   ]
  },
  {
   "cell_type": "code",
   "execution_count": 18,
   "metadata": {},
   "outputs": [
    {
     "data": {
      "text/html": [
       "<div>\n",
       "<style scoped>\n",
       "    .dataframe tbody tr th:only-of-type {\n",
       "        vertical-align: middle;\n",
       "    }\n",
       "\n",
       "    .dataframe tbody tr th {\n",
       "        vertical-align: top;\n",
       "    }\n",
       "\n",
       "    .dataframe thead th {\n",
       "        text-align: right;\n",
       "    }\n",
       "</style>\n",
       "<table border=\"1\" class=\"dataframe\">\n",
       "  <thead>\n",
       "    <tr style=\"text-align: right;\">\n",
       "      <th></th>\n",
       "      <th>line</th>\n",
       "      <th>num</th>\n",
       "      <th>created_at</th>\n",
       "      <th>saved</th>\n",
       "      <th>name</th>\n",
       "      <th>label_difference</th>\n",
       "    </tr>\n",
       "  </thead>\n",
       "  <tbody>\n",
       "    <tr>\n",
       "      <th>8</th>\n",
       "      <td>repo\\contrastivity</td>\n",
       "      <td>0</td>\n",
       "      <td>2022-12-04 11:42:04.313409+00:00</td>\n",
       "      <td>a few seconds after</td>\n",
       "      <td>const</td>\n",
       "      <td>0.000000</td>\n",
       "    </tr>\n",
       "    <tr>\n",
       "      <th>9</th>\n",
       "      <td>repo\\contrastivity</td>\n",
       "      <td>1</td>\n",
       "      <td>2022-12-04 11:42:04.313409+00:00</td>\n",
       "      <td>a few seconds after</td>\n",
       "      <td>random</td>\n",
       "      <td>1.247543</td>\n",
       "    </tr>\n",
       "    <tr>\n",
       "      <th>10</th>\n",
       "      <td>repo\\contrastivity</td>\n",
       "      <td>2</td>\n",
       "      <td>2022-12-04 11:42:04.313409+00:00</td>\n",
       "      <td>2 minutes after</td>\n",
       "      <td>shap</td>\n",
       "      <td>1.714009</td>\n",
       "    </tr>\n",
       "    <tr>\n",
       "      <th>11</th>\n",
       "      <td>repo\\contrastivity</td>\n",
       "      <td>3</td>\n",
       "      <td>2022-12-04 11:42:04.313409+00:00</td>\n",
       "      <td>3 minutes after</td>\n",
       "      <td>lime</td>\n",
       "      <td>0.502633</td>\n",
       "    </tr>\n",
       "  </tbody>\n",
       "</table>\n",
       "</div>"
      ],
      "text/plain": [
       "                  line  num                       created_at  \\\n",
       "8   repo\\contrastivity    0 2022-12-04 11:42:04.313409+00:00   \n",
       "9   repo\\contrastivity    1 2022-12-04 11:42:04.313409+00:00   \n",
       "10  repo\\contrastivity    2 2022-12-04 11:42:04.313409+00:00   \n",
       "11  repo\\contrastivity    3 2022-12-04 11:42:04.313409+00:00   \n",
       "\n",
       "                  saved    name  label_difference  \n",
       "8   a few seconds after   const          0.000000  \n",
       "9   a few seconds after  random          1.247543  \n",
       "10      2 minutes after    shap          1.714009  \n",
       "11      3 minutes after    lime          0.502633  "
      ]
     },
     "execution_count": 18,
     "metadata": {},
     "output_type": "execute_result"
    }
   ],
   "source": [
    "present_metrics('contrastivity')"
   ]
  },
  {
   "cell_type": "code",
   "execution_count": 19,
   "metadata": {},
   "outputs": [
    {
     "data": {
      "text/html": [
       "<div>\n",
       "<style scoped>\n",
       "    .dataframe tbody tr th:only-of-type {\n",
       "        vertical-align: middle;\n",
       "    }\n",
       "\n",
       "    .dataframe tbody tr th {\n",
       "        vertical-align: top;\n",
       "    }\n",
       "\n",
       "    .dataframe thead th {\n",
       "        text-align: right;\n",
       "    }\n",
       "</style>\n",
       "<table border=\"1\" class=\"dataframe\">\n",
       "  <thead>\n",
       "    <tr style=\"text-align: right;\">\n",
       "      <th></th>\n",
       "      <th>line</th>\n",
       "      <th>num</th>\n",
       "      <th>created_at</th>\n",
       "      <th>saved</th>\n",
       "      <th>other_disagreement</th>\n",
       "      <th>name</th>\n",
       "    </tr>\n",
       "  </thead>\n",
       "  <tbody>\n",
       "    <tr>\n",
       "      <th>0</th>\n",
       "      <td>repo\\coherence</td>\n",
       "      <td>0</td>\n",
       "      <td>2022-12-04 11:45:29.427824+00:00</td>\n",
       "      <td>3 minutes after</td>\n",
       "      <td>1.712317</td>\n",
       "      <td>const</td>\n",
       "    </tr>\n",
       "    <tr>\n",
       "      <th>1</th>\n",
       "      <td>repo\\coherence</td>\n",
       "      <td>1</td>\n",
       "      <td>2022-12-04 11:45:29.427824+00:00</td>\n",
       "      <td>7 minutes after</td>\n",
       "      <td>1.273758</td>\n",
       "      <td>random</td>\n",
       "    </tr>\n",
       "    <tr>\n",
       "      <th>2</th>\n",
       "      <td>repo\\coherence</td>\n",
       "      <td>2</td>\n",
       "      <td>2022-12-04 11:45:29.427824+00:00</td>\n",
       "      <td>10 minutes after</td>\n",
       "      <td>1.105160</td>\n",
       "      <td>shap</td>\n",
       "    </tr>\n",
       "    <tr>\n",
       "      <th>3</th>\n",
       "      <td>repo\\coherence</td>\n",
       "      <td>3</td>\n",
       "      <td>2022-12-04 11:45:29.427824+00:00</td>\n",
       "      <td>13 minutes after</td>\n",
       "      <td>1.004815</td>\n",
       "      <td>lime</td>\n",
       "    </tr>\n",
       "  </tbody>\n",
       "</table>\n",
       "</div>"
      ],
      "text/plain": [
       "             line  num                       created_at             saved  \\\n",
       "0  repo\\coherence    0 2022-12-04 11:45:29.427824+00:00   3 minutes after   \n",
       "1  repo\\coherence    1 2022-12-04 11:45:29.427824+00:00   7 minutes after   \n",
       "2  repo\\coherence    2 2022-12-04 11:45:29.427824+00:00  10 minutes after   \n",
       "3  repo\\coherence    3 2022-12-04 11:45:29.427824+00:00  13 minutes after   \n",
       "\n",
       "   other_disagreement    name  \n",
       "0            1.712317   const  \n",
       "1            1.273758  random  \n",
       "2            1.105160    shap  \n",
       "3            1.004815    lime  "
      ]
     },
     "execution_count": 19,
     "metadata": {},
     "output_type": "execute_result"
    }
   ],
   "source": [
    "present_metrics('coherence')"
   ]
  }
 ],
 "metadata": {
  "kernelspec": {
   "display_name": "Python 3.8.10 ('venv3.8': venv)",
   "language": "python",
   "name": "python3"
  },
  "language_info": {
   "codemirror_mode": {
    "name": "ipython",
    "version": 3
   },
   "file_extension": ".py",
   "mimetype": "text/x-python",
   "name": "python",
   "nbconvert_exporter": "python",
   "pygments_lexer": "ipython3",
   "version": "3.8.10"
  },
  "orig_nbformat": 4,
  "vscode": {
   "interpreter": {
    "hash": "7bb2890174899d79f80719b5dd106e54858d3d485c376b2d584da9fed4042585"
   }
  }
 },
 "nbformat": 4,
 "nbformat_minor": 2
}
