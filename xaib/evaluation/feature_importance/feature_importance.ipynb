{
 "cells": [
  {
   "cell_type": "code",
   "execution_count": 2,
   "metadata": {},
   "outputs": [],
   "source": [
    "# !python make_dataset.py\n",
    "# !python train_model.py"
   ]
  },
  {
   "cell_type": "code",
   "execution_count": 3,
   "metadata": {},
   "outputs": [
    {
     "name": "stderr",
     "output_type": "stream",
     "text": [
      "c:\\xaib-experiments\\venv3.8\\lib\\site-packages\\tqdm\\auto.py:22: TqdmWarning: IProgress not found. Please update jupyter and ipywidgets. See https://ipywidgets.readthedocs.io/en/stable/user_install.html\n",
      "  from .autonotebook import tqdm as notebook_tqdm\n"
     ]
    }
   ],
   "source": [
    "from cascade.models import ModelRepo\n",
    "from cascade.meta import MetricViewer\n",
    "from cascade import data as cdd\n",
    "from cascade import utils as cdu"
   ]
  },
  {
   "cell_type": "code",
   "execution_count": 4,
   "metadata": {},
   "outputs": [],
   "source": [
    "from xaib.explainers.feature_importance.constant_explainer import ConstantExplainer\n",
    "from xaib.explainers.feature_importance.random_explainer import RandomExplainer\n",
    "from xaib.explainers.feature_importance.shap_explainer import ShapExplainer\n",
    "from xaib.explainers.feature_importance.lime_explainer import LimeExplainer"
   ]
  },
  {
   "cell_type": "code",
   "execution_count": 11,
   "metadata": {},
   "outputs": [],
   "source": [
    "import os\n",
    "import sys\n",
    "\n",
    "sys.path.append(os.path.abspath('..'))\n",
    "from utils import case"
   ]
  },
  {
   "cell_type": "code",
   "execution_count": 12,
   "metadata": {},
   "outputs": [],
   "source": [
    "BS = 5"
   ]
  },
  {
   "cell_type": "code",
   "execution_count": 13,
   "metadata": {},
   "outputs": [
    {
     "ename": "PermissionError",
     "evalue": "[WinError 32] The process cannot access the file because it is being used by another process: 'repo\\\\history.log'",
     "output_type": "error",
     "traceback": [
      "\u001b[1;31m---------------------------------------------------------------------------\u001b[0m",
      "\u001b[1;31mPermissionError\u001b[0m                           Traceback (most recent call last)",
      "Cell \u001b[1;32mIn [13], line 2\u001b[0m\n\u001b[0;32m      1\u001b[0m \u001b[39m# Overwrite previous run\u001b[39;00m\n\u001b[1;32m----> 2\u001b[0m ModelRepo(\u001b[39m'\u001b[39;49m\u001b[39mrepo\u001b[39;49m\u001b[39m'\u001b[39;49m, overwrite\u001b[39m=\u001b[39;49m\u001b[39mTrue\u001b[39;49;00m)\n",
      "File \u001b[1;32mc:\\xaib-experiments\\venv3.8\\lib\\site-packages\\cascade\\models\\model_repo.py:104\u001b[0m, in \u001b[0;36mModelRepo.__init__\u001b[1;34m(self, folder, lines, overwrite, meta_fmt, model_cls, **kwargs)\u001b[0m\n\u001b[0;32m    102\u001b[0m \u001b[39mself\u001b[39m\u001b[39m.\u001b[39m_meta_fmt \u001b[39m=\u001b[39m meta_fmt\n\u001b[0;32m    103\u001b[0m \u001b[39mif\u001b[39;00m overwrite \u001b[39mand\u001b[39;00m os\u001b[39m.\u001b[39mpath\u001b[39m.\u001b[39mexists(\u001b[39mself\u001b[39m\u001b[39m.\u001b[39m_root):\n\u001b[1;32m--> 104\u001b[0m     shutil\u001b[39m.\u001b[39;49mrmtree(\u001b[39mself\u001b[39;49m\u001b[39m.\u001b[39;49m_root)\n\u001b[0;32m    106\u001b[0m os\u001b[39m.\u001b[39mmakedirs(\u001b[39mself\u001b[39m\u001b[39m.\u001b[39m_root, exist_ok\u001b[39m=\u001b[39m\u001b[39mTrue\u001b[39;00m)\n\u001b[0;32m    108\u001b[0m \u001b[39mself\u001b[39m\u001b[39m.\u001b[39m_mh \u001b[39m=\u001b[39m MetaHandler()\n",
      "File \u001b[1;32m~\\AppData\\Local\\Programs\\Python\\Python38\\lib\\shutil.py:740\u001b[0m, in \u001b[0;36mrmtree\u001b[1;34m(path, ignore_errors, onerror)\u001b[0m\n\u001b[0;32m    738\u001b[0m     \u001b[39m# can't continue even if onerror hook returns\u001b[39;00m\n\u001b[0;32m    739\u001b[0m     \u001b[39mreturn\u001b[39;00m\n\u001b[1;32m--> 740\u001b[0m \u001b[39mreturn\u001b[39;00m _rmtree_unsafe(path, onerror)\n",
      "File \u001b[1;32m~\\AppData\\Local\\Programs\\Python\\Python38\\lib\\shutil.py:618\u001b[0m, in \u001b[0;36m_rmtree_unsafe\u001b[1;34m(path, onerror)\u001b[0m\n\u001b[0;32m    616\u001b[0m             os\u001b[39m.\u001b[39munlink(fullname)\n\u001b[0;32m    617\u001b[0m         \u001b[39mexcept\u001b[39;00m \u001b[39mOSError\u001b[39;00m:\n\u001b[1;32m--> 618\u001b[0m             onerror(os\u001b[39m.\u001b[39;49munlink, fullname, sys\u001b[39m.\u001b[39;49mexc_info())\n\u001b[0;32m    619\u001b[0m \u001b[39mtry\u001b[39;00m:\n\u001b[0;32m    620\u001b[0m     os\u001b[39m.\u001b[39mrmdir(path)\n",
      "File \u001b[1;32m~\\AppData\\Local\\Programs\\Python\\Python38\\lib\\shutil.py:616\u001b[0m, in \u001b[0;36m_rmtree_unsafe\u001b[1;34m(path, onerror)\u001b[0m\n\u001b[0;32m    614\u001b[0m \u001b[39melse\u001b[39;00m:\n\u001b[0;32m    615\u001b[0m     \u001b[39mtry\u001b[39;00m:\n\u001b[1;32m--> 616\u001b[0m         os\u001b[39m.\u001b[39;49munlink(fullname)\n\u001b[0;32m    617\u001b[0m     \u001b[39mexcept\u001b[39;00m \u001b[39mOSError\u001b[39;00m:\n\u001b[0;32m    618\u001b[0m         onerror(os\u001b[39m.\u001b[39munlink, fullname, sys\u001b[39m.\u001b[39mexc_info())\n",
      "\u001b[1;31mPermissionError\u001b[0m: [WinError 32] The process cannot access the file because it is being used by another process: 'repo\\\\history.log'"
     ]
    }
   ],
   "source": [
    "# Overwrite previous run\n",
    "ModelRepo('repo', overwrite=True)"
   ]
  },
  {
   "cell_type": "code",
   "execution_count": 14,
   "metadata": {},
   "outputs": [],
   "source": [
    "train_ds = cdd.Pickler('train_ds').ds()\n",
    "test_ds = cdd.Pickler('test_ds').ds()\n",
    "n_features = train_ds.get_meta()[0]['n_features']\n",
    "\n",
    "model = cdu.SkModel()\n",
    "model.load('svm')"
   ]
  },
  {
   "cell_type": "code",
   "execution_count": 15,
   "metadata": {},
   "outputs": [],
   "source": [
    "explainers = {\n",
    "    'const': ConstantExplainer(n_features=n_features, constant=1),\n",
    "    'random': RandomExplainer(n_features=n_features, shift=-15, magnitude=10),\n",
    "    'shap': ShapExplainer(train_ds),\n",
    "    'lime': LimeExplainer(train_ds, labels=(0, 1))\n",
    "}"
   ]
  },
  {
   "cell_type": "code",
   "execution_count": 16,
   "metadata": {},
   "outputs": [],
   "source": [
    "from xaib.cases.feature_importance import CorrectnessCase\n",
    "\n",
    "from utils import RandomBinBaseline\n",
    "\n",
    "@case(explainers=explainers, batch_size=BS)\n",
    "def correctness():\n",
    "    noisy_model = RandomBinBaseline()\n",
    "\n",
    "    c = CorrectnessCase(test_ds, model, noisy_model)\n",
    "    return c"
   ]
  },
  {
   "cell_type": "code",
   "execution_count": 12,
   "metadata": {},
   "outputs": [
    {
     "name": "stderr",
     "output_type": "stream",
     "text": [
      "100%|██████████| 20/20 [00:00<00:00, 1175.17it/s]\n",
      "100%|██████████| 20/20 [00:00<00:00, 899.46it/s]\n",
      "Exact explainer: 6it [00:20,  4.05s/it]\n",
      "Exact explainer: 6it [00:13,  6.56s/it]\n",
      "Exact explainer: 6it [00:10, 10.55s/it]               \n",
      "Exact explainer: 6it [00:10, 10.05s/it]               \n",
      "Exact explainer: 6it [00:10, 10.70s/it]               \n",
      "Exact explainer: 6it [00:11, 11.13s/it]               \n",
      "Exact explainer: 6it [00:10, 10.27s/it]               \n",
      "Exact explainer: 6it [00:10, 10.41s/it]               \n",
      "Exact explainer: 6it [00:17,  8.62s/it]02s/it]\n",
      "Exact explainer: 6it [00:20,  6.69s/it]\n",
      "Exact explainer: 6it [00:16,  5.64s/it]35s/it]\n",
      "Exact explainer: 6it [00:38, 12.86s/it]\n",
      "Exact explainer: 6it [00:12, 12.11s/it]               \n",
      "Exact explainer: 6it [00:18,  6.15s/it]\n",
      "Exact explainer: 6it [00:18,  6.26s/it]05s/it]\n",
      "Exact explainer: 6it [00:12,  6.41s/it]\n",
      "Exact explainer: 6it [00:17,  5.69s/it].30s/it]\n",
      "Exact explainer: 6it [00:18,  6.23s/it]\n",
      "Exact explainer: 6it [00:16,  5.62s/it].06s/it]\n",
      "Exact explainer: 6it [00:12, 12.08s/it]               \n",
      "Exact explainer: 6it [00:12,  6.13s/it].50s/it]\n",
      "Exact explainer: 6it [00:11, 11.80s/it]               \n",
      "Exact explainer: 6it [00:13,  6.90s/it].94s/it]\n",
      "Exact explainer: 6it [00:19,  6.49s/it]\n",
      "Exact explainer: 6it [00:17,  5.89s/it].96s/it]\n",
      "Exact explainer: 6it [00:46, 15.38s/it]\n",
      "Exact explainer: 6it [01:21, 16.35s/it].86s/it]\n",
      "Exact explainer: 6it [01:16, 15.33s/it]\n",
      "Exact explainer: 6it [01:10, 14.13s/it].26s/it]\n",
      "Exact explainer: 6it [01:15, 15.01s/it]\n",
      "Exact explainer: 6it [01:24, 16.91s/it].16s/it]\n",
      "Exact explainer: 6it [01:13, 14.72s/it]\n",
      "Exact explainer: 6it [01:10, 14.00s/it]5.51s/it]\n",
      "Exact explainer: 6it [01:19, 15.93s/it]\n",
      "Exact explainer: 6it [01:19, 15.94s/it]5.78s/it]\n",
      "Exact explainer: 6it [01:13, 14.74s/it]\n",
      "100%|██████████| 20/20 [20:41<00:00, 62.07s/it] \n",
      "100%|██████████| 20/20 [03:19<00:00,  9.95s/it]\n"
     ]
    }
   ],
   "source": [
    "correctness()"
   ]
  },
  {
   "cell_type": "code",
   "execution_count": 10,
   "metadata": {},
   "outputs": [
    {
     "name": "stderr",
     "output_type": "stream",
     "text": [
      "20it [00:00, 1332.94it/s]\n",
      "20it [00:00, 1819.42it/s]\n",
      "Exact explainer: 6it [00:46,  9.27s/it]\n",
      "Exact explainer: 6it [00:27,  6.84s/it]\n",
      "Exact explainer: 6it [00:18,  6.21s/it]\n",
      "Exact explainer: 6it [00:10, 10.14s/it]               \n",
      "Exact explainer: 6it [00:11, 11.26s/it]               \n",
      "Exact explainer: 6it [00:13,  6.76s/it]\n",
      "Exact explainer: 6it [00:14,  7.00s/it]\n",
      "Exact explainer: 6it [00:10, 10.55s/it]               \n",
      "Exact explainer: 6it [00:10, 10.04s/it]               \n",
      "Exact explainer: 6it [00:11, 11.61s/it]               \n",
      "Exact explainer: 6it [00:11, 11.06s/it]               \n",
      "Exact explainer: 6it [00:10, 10.42s/it]               \n",
      "Exact explainer: 6it [00:16,  5.63s/it]\n",
      "Exact explainer: 6it [00:10, 10.06s/it]               \n",
      "Exact explainer: 6it [00:12, 12.67s/it]               \n",
      "Exact explainer: 6it [00:10, 10.21s/it]               \n",
      "Exact explainer: 6it [00:11, 11.06s/it]               \n",
      "Exact explainer: 6it [00:10, 10.10s/it]               \n",
      "Exact explainer: 6it [00:10, 10.01s/it]               \n",
      "Exact explainer: 6it [00:12, 12.74s/it]               \n",
      "Exact explainer: 6it [00:10, 10.27s/it]               \n",
      "Exact explainer: 6it [00:10, 10.72s/it]               \n",
      "Exact explainer: 6it [00:10, 10.16s/it]               \n",
      "Exact explainer: 6it [00:10, 10.78s/it]               \n",
      "Exact explainer: 6it [00:11, 11.45s/it]               \n",
      "Exact explainer: 6it [00:10, 10.36s/it]               \n",
      "Exact explainer: 6it [00:10, 10.67s/it]               \n",
      "Exact explainer: 6it [00:11, 11.77s/it]               \n",
      "Exact explainer: 6it [00:10, 10.15s/it]               \n",
      "Exact explainer: 6it [00:11, 11.13s/it]               \n",
      "Exact explainer: 6it [00:10, 10.97s/it]               \n",
      "Exact explainer: 6it [00:10, 10.02s/it]               \n",
      "20it [08:16, 24.81s/it]\n",
      "20it [01:44,  5.24s/it]\n"
     ]
    }
   ],
   "source": [
    "continuity(explainers, batch_size=BS)"
   ]
  },
  {
   "cell_type": "code",
   "execution_count": 11,
   "metadata": {},
   "outputs": [
    {
     "name": "stderr",
     "output_type": "stream",
     "text": [
      "100%|██████████| 9/9 [00:00<00:00, 4500.33it/s]          \n",
      "100%|██████████| 9/9 [00:00<00:00, 9058.97it/s]\n",
      "100%|██████████| 9/9 [00:00<00:00, 4490.69it/s]          \n",
      "100%|██████████| 9/9 [00:00<00:00, 1799.62it/s]\n",
      "Exact explainer: 6it [00:38,  7.78s/it]                  \n",
      "Exact explainer: 6it [00:18,  4.53s/it]0s/it]\n",
      "Exact explainer: 6it [00:10, 10.53s/it]               \n",
      "Exact explainer: 6it [00:10, 10.98s/it]               \n",
      "Exact explainer: 6it [00:10, 10.70s/it]               \n",
      "100%|██████████| 9/9 [02:07<00:00, 14.19s/it]\n",
      "Exact explainer: 6it [00:10, 10.14s/it]               \n",
      "Exact explainer: 6it [00:10, 10.73s/it]               \n",
      "Exact explainer: 6it [00:10, 10.33s/it]               \n",
      "100%|██████████| 9/9 [01:23<00:00,  9.29s/it]\n",
      "100%|██████████| 9/9 [00:35<00:00,  3.92s/it]            \n",
      "100%|██████████| 9/9 [00:20<00:00,  2.27s/it]\n"
     ]
    }
   ],
   "source": [
    "contrastivity(explainers, batch_size=BS)"
   ]
  },
  {
   "cell_type": "code",
   "execution_count": 12,
   "metadata": {},
   "outputs": [
    {
     "name": "stderr",
     "output_type": "stream",
     "text": [
      "Exact explainer: 6it [00:30,  7.61s/it]\n",
      "Exact explainer: 6it [00:10, 10.96s/it]               \n",
      "Exact explainer: 6it [00:11, 11.71s/it]               \n",
      "Exact explainer: 6it [00:10, 10.22s/it]               \n",
      "Exact explainer: 6it [00:10, 10.83s/it]               \n",
      "Exact explainer: 6it [00:10, 10.43s/it]               \n",
      "Exact explainer: 6it [00:10, 10.75s/it]               \n",
      "100%|██████████| 20/20 [03:51<00:00, 11.59s/it]\n",
      "Exact explainer: 6it [00:41, 10.25s/it]\n",
      "Exact explainer: 6it [00:14,  4.80s/it]19s/it]\n",
      "Exact explainer: 6it [00:11, 11.10s/it]               \n",
      "Exact explainer: 6it [00:10, 10.20s/it]               \n",
      "Exact explainer: 6it [00:10, 10.08s/it]               \n",
      "Exact explainer: 6it [00:10, 10.25s/it]               \n",
      "100%|██████████| 20/20 [04:02<00:00, 12.12s/it]\n",
      "Exact explainer: 6it [00:35,  8.82s/it]\n",
      "Exact explainer: 6it [00:11,  5.96s/it]45s/it]\n",
      "Exact explainer: 6it [00:13,  6.67s/it]72s/it]\n",
      "Exact explainer: 6it [00:10, 10.49s/it]               \n",
      "Exact explainer: 6it [00:10, 10.61s/it]               \n",
      "Exact explainer: 6it [00:10, 10.28s/it]               \n",
      "Exact explainer: 6it [00:10, 10.02s/it]               \n",
      "100%|██████████| 20/20 [03:56<00:00, 11.81s/it]\n",
      "Exact explainer: 6it [00:36,  7.33s/it]\n",
      "Exact explainer: 6it [00:10, 10.48s/it]               \n",
      "Exact explainer: 6it [00:14,  4.80s/it].45s/it]\n",
      "100%|██████████| 20/20 [03:58<00:00, 11.91s/it]\n"
     ]
    }
   ],
   "source": [
    "coherence(explainers, batch_size=BS)"
   ]
  },
  {
   "cell_type": "code",
   "execution_count": 13,
   "metadata": {},
   "outputs": [
    {
     "name": "stderr",
     "output_type": "stream",
     "text": [
      "100%|██████████| 20/20 [00:00<00:00, 833.10it/s]\n",
      "100%|██████████| 20/20 [00:00<00:00, 235.29it/s]\n",
      "Exact explainer: 6it [00:39,  7.89s/it]\n",
      "Exact explainer: 6it [00:15,  3.87s/it]47s/it]\n",
      "Exact explainer: 6it [00:11, 11.10s/it]               \n",
      "Exact explainer: 6it [00:11, 11.78s/it]               \n",
      "Exact explainer: 6it [00:10, 10.41s/it]               \n",
      "Exact explainer: 6it [00:12, 12.26s/it]               \n",
      "Exact explainer: 6it [00:10, 10.96s/it]               \n",
      "Exact explainer: 6it [00:10, 10.99s/it]               \n",
      "100%|██████████| 20/20 [03:54<00:00, 11.74s/it]\n",
      "100%|██████████| 20/20 [00:51<00:00,  2.59s/it]\n"
     ]
    }
   ],
   "source": [
    "compactness(explainers, batch_size=BS)"
   ]
  },
  {
   "cell_type": "code",
   "execution_count": 14,
   "metadata": {},
   "outputs": [
    {
     "name": "stderr",
     "output_type": "stream",
     "text": [
      "100%|██████████| 20/20 [00:00<00:00, 19996.68it/s]\n",
      "100%|██████████| 20/20 [00:00<00:00, 10013.86it/s]\n",
      "Exact explainer: 6it [00:31,  7.99s/it]\n",
      "Exact explainer: 6it [00:13,  6.53s/it]99s/it]\n",
      "Exact explainer: 6it [00:10, 10.89s/it]               \n",
      "Exact explainer: 6it [00:12, 12.26s/it]               \n",
      "Exact explainer: 6it [00:10, 10.43s/it]               \n",
      "Exact explainer: 6it [00:10, 10.97s/it]               \n",
      "Exact explainer: 6it [00:10, 10.16s/it]               \n",
      "Exact explainer: 6it [00:11, 11.19s/it]               \n",
      "Exact explainer: 6it [00:10, 10.38s/it]               \n",
      "Exact explainer: 6it [00:15,  7.63s/it].17s/it]\n",
      "100%|██████████| 20/20 [03:50<00:00, 11.55s/it]\n",
      "100%|██████████| 20/20 [00:55<00:00,  2.76s/it]\n"
     ]
    }
   ],
   "source": [
    "covariate_complexity(explainers, batch_size=BS)"
   ]
  },
  {
   "cell_type": "code",
   "execution_count": 15,
   "metadata": {},
   "outputs": [],
   "source": [
    "repo = ModelRepo('repo')"
   ]
  },
  {
   "cell_type": "code",
   "execution_count": 16,
   "metadata": {},
   "outputs": [],
   "source": [
    "t = MetricViewer(repo).table"
   ]
  },
  {
   "cell_type": "code",
   "execution_count": 17,
   "metadata": {},
   "outputs": [],
   "source": [
    "def present_metrics(case):\n",
    "    return t[t['line'].apply(lambda x: case in x)].dropna(axis=1)"
   ]
  },
  {
   "cell_type": "code",
   "execution_count": 18,
   "metadata": {},
   "outputs": [
    {
     "data": {
      "text/html": [
       "<div>\n",
       "<style scoped>\n",
       "    .dataframe tbody tr th:only-of-type {\n",
       "        vertical-align: middle;\n",
       "    }\n",
       "\n",
       "    .dataframe tbody tr th {\n",
       "        vertical-align: top;\n",
       "    }\n",
       "\n",
       "    .dataframe thead th {\n",
       "        text-align: right;\n",
       "    }\n",
       "</style>\n",
       "<table border=\"1\" class=\"dataframe\">\n",
       "  <thead>\n",
       "    <tr style=\"text-align: right;\">\n",
       "      <th></th>\n",
       "      <th>line</th>\n",
       "      <th>num</th>\n",
       "      <th>created_at</th>\n",
       "      <th>saved</th>\n",
       "      <th>name</th>\n",
       "      <th>parameter_randomization_check</th>\n",
       "    </tr>\n",
       "  </thead>\n",
       "  <tbody>\n",
       "    <tr>\n",
       "      <th>16</th>\n",
       "      <td>repo\\correctness</td>\n",
       "      <td>0</td>\n",
       "      <td>2022-12-06 10:58:22.224860+00:00</td>\n",
       "      <td>a few seconds after</td>\n",
       "      <td>const</td>\n",
       "      <td>0.000000</td>\n",
       "    </tr>\n",
       "    <tr>\n",
       "      <th>17</th>\n",
       "      <td>repo\\correctness</td>\n",
       "      <td>1</td>\n",
       "      <td>2022-12-06 10:58:22.224860+00:00</td>\n",
       "      <td>a few seconds after</td>\n",
       "      <td>random</td>\n",
       "      <td>1.285985</td>\n",
       "    </tr>\n",
       "    <tr>\n",
       "      <th>18</th>\n",
       "      <td>repo\\correctness</td>\n",
       "      <td>2</td>\n",
       "      <td>2022-12-06 10:58:22.224860+00:00</td>\n",
       "      <td>7 minutes after</td>\n",
       "      <td>shap</td>\n",
       "      <td>0.953585</td>\n",
       "    </tr>\n",
       "    <tr>\n",
       "      <th>19</th>\n",
       "      <td>repo\\correctness</td>\n",
       "      <td>3</td>\n",
       "      <td>2022-12-06 10:58:22.224860+00:00</td>\n",
       "      <td>9 minutes after</td>\n",
       "      <td>lime</td>\n",
       "      <td>1.099241</td>\n",
       "    </tr>\n",
       "  </tbody>\n",
       "</table>\n",
       "</div>"
      ],
      "text/plain": [
       "                line  num                       created_at  \\\n",
       "16  repo\\correctness    0 2022-12-06 10:58:22.224860+00:00   \n",
       "17  repo\\correctness    1 2022-12-06 10:58:22.224860+00:00   \n",
       "18  repo\\correctness    2 2022-12-06 10:58:22.224860+00:00   \n",
       "19  repo\\correctness    3 2022-12-06 10:58:22.224860+00:00   \n",
       "\n",
       "                  saved    name  parameter_randomization_check  \n",
       "16  a few seconds after   const                       0.000000  \n",
       "17  a few seconds after  random                       1.285985  \n",
       "18      7 minutes after    shap                       0.953585  \n",
       "19      9 minutes after    lime                       1.099241  "
      ]
     },
     "execution_count": 18,
     "metadata": {},
     "output_type": "execute_result"
    }
   ],
   "source": [
    "present_metrics('correctness')"
   ]
  },
  {
   "cell_type": "code",
   "execution_count": 19,
   "metadata": {},
   "outputs": [
    {
     "data": {
      "text/html": [
       "<div>\n",
       "<style scoped>\n",
       "    .dataframe tbody tr th:only-of-type {\n",
       "        vertical-align: middle;\n",
       "    }\n",
       "\n",
       "    .dataframe tbody tr th {\n",
       "        vertical-align: top;\n",
       "    }\n",
       "\n",
       "    .dataframe thead th {\n",
       "        text-align: right;\n",
       "    }\n",
       "</style>\n",
       "<table border=\"1\" class=\"dataframe\">\n",
       "  <thead>\n",
       "    <tr style=\"text-align: right;\">\n",
       "      <th></th>\n",
       "      <th>line</th>\n",
       "      <th>num</th>\n",
       "      <th>created_at</th>\n",
       "      <th>saved</th>\n",
       "      <th>name</th>\n",
       "      <th>small_noise_check</th>\n",
       "      <th>multiplier</th>\n",
       "    </tr>\n",
       "  </thead>\n",
       "  <tbody>\n",
       "    <tr>\n",
       "      <th>8</th>\n",
       "      <td>repo\\continuity</td>\n",
       "      <td>0</td>\n",
       "      <td>2022-12-06 11:07:45.151634+00:00</td>\n",
       "      <td>a few seconds after</td>\n",
       "      <td>const</td>\n",
       "      <td>0.000000</td>\n",
       "      <td>0.01</td>\n",
       "    </tr>\n",
       "    <tr>\n",
       "      <th>9</th>\n",
       "      <td>repo\\continuity</td>\n",
       "      <td>1</td>\n",
       "      <td>2022-12-06 11:07:45.151634+00:00</td>\n",
       "      <td>a few seconds after</td>\n",
       "      <td>random</td>\n",
       "      <td>1.332742</td>\n",
       "      <td>0.01</td>\n",
       "    </tr>\n",
       "    <tr>\n",
       "      <th>10</th>\n",
       "      <td>repo\\continuity</td>\n",
       "      <td>2</td>\n",
       "      <td>2022-12-06 11:07:45.151634+00:00</td>\n",
       "      <td>8 minutes after</td>\n",
       "      <td>shap</td>\n",
       "      <td>0.002232</td>\n",
       "      <td>0.01</td>\n",
       "    </tr>\n",
       "    <tr>\n",
       "      <th>11</th>\n",
       "      <td>repo\\continuity</td>\n",
       "      <td>3</td>\n",
       "      <td>2022-12-06 11:07:45.151634+00:00</td>\n",
       "      <td>10 minutes after</td>\n",
       "      <td>lime</td>\n",
       "      <td>0.096771</td>\n",
       "      <td>0.01</td>\n",
       "    </tr>\n",
       "  </tbody>\n",
       "</table>\n",
       "</div>"
      ],
      "text/plain": [
       "               line  num                       created_at  \\\n",
       "8   repo\\continuity    0 2022-12-06 11:07:45.151634+00:00   \n",
       "9   repo\\continuity    1 2022-12-06 11:07:45.151634+00:00   \n",
       "10  repo\\continuity    2 2022-12-06 11:07:45.151634+00:00   \n",
       "11  repo\\continuity    3 2022-12-06 11:07:45.151634+00:00   \n",
       "\n",
       "                  saved    name  small_noise_check  multiplier  \n",
       "8   a few seconds after   const           0.000000        0.01  \n",
       "9   a few seconds after  random           1.332742        0.01  \n",
       "10      8 minutes after    shap           0.002232        0.01  \n",
       "11     10 minutes after    lime           0.096771        0.01  "
      ]
     },
     "execution_count": 19,
     "metadata": {},
     "output_type": "execute_result"
    }
   ],
   "source": [
    "present_metrics('continuity')"
   ]
  },
  {
   "cell_type": "code",
   "execution_count": 20,
   "metadata": {},
   "outputs": [
    {
     "data": {
      "text/html": [
       "<div>\n",
       "<style scoped>\n",
       "    .dataframe tbody tr th:only-of-type {\n",
       "        vertical-align: middle;\n",
       "    }\n",
       "\n",
       "    .dataframe tbody tr th {\n",
       "        vertical-align: top;\n",
       "    }\n",
       "\n",
       "    .dataframe thead th {\n",
       "        text-align: right;\n",
       "    }\n",
       "</style>\n",
       "<table border=\"1\" class=\"dataframe\">\n",
       "  <thead>\n",
       "    <tr style=\"text-align: right;\">\n",
       "      <th></th>\n",
       "      <th>line</th>\n",
       "      <th>num</th>\n",
       "      <th>created_at</th>\n",
       "      <th>saved</th>\n",
       "      <th>name</th>\n",
       "      <th>label_difference</th>\n",
       "    </tr>\n",
       "  </thead>\n",
       "  <tbody>\n",
       "    <tr>\n",
       "      <th>12</th>\n",
       "      <td>repo\\contrastivity</td>\n",
       "      <td>0</td>\n",
       "      <td>2022-12-06 11:17:46.509243+00:00</td>\n",
       "      <td>a few seconds after</td>\n",
       "      <td>const</td>\n",
       "      <td>0.000000</td>\n",
       "    </tr>\n",
       "    <tr>\n",
       "      <th>13</th>\n",
       "      <td>repo\\contrastivity</td>\n",
       "      <td>1</td>\n",
       "      <td>2022-12-06 11:17:46.509243+00:00</td>\n",
       "      <td>a few seconds after</td>\n",
       "      <td>random</td>\n",
       "      <td>1.341701</td>\n",
       "    </tr>\n",
       "    <tr>\n",
       "      <th>14</th>\n",
       "      <td>repo\\contrastivity</td>\n",
       "      <td>2</td>\n",
       "      <td>2022-12-06 11:17:46.509243+00:00</td>\n",
       "      <td>3 minutes after</td>\n",
       "      <td>shap</td>\n",
       "      <td>2.307282</td>\n",
       "    </tr>\n",
       "    <tr>\n",
       "      <th>15</th>\n",
       "      <td>repo\\contrastivity</td>\n",
       "      <td>3</td>\n",
       "      <td>2022-12-06 11:17:46.509243+00:00</td>\n",
       "      <td>4 minutes after</td>\n",
       "      <td>lime</td>\n",
       "      <td>0.786060</td>\n",
       "    </tr>\n",
       "  </tbody>\n",
       "</table>\n",
       "</div>"
      ],
      "text/plain": [
       "                  line  num                       created_at  \\\n",
       "12  repo\\contrastivity    0 2022-12-06 11:17:46.509243+00:00   \n",
       "13  repo\\contrastivity    1 2022-12-06 11:17:46.509243+00:00   \n",
       "14  repo\\contrastivity    2 2022-12-06 11:17:46.509243+00:00   \n",
       "15  repo\\contrastivity    3 2022-12-06 11:17:46.509243+00:00   \n",
       "\n",
       "                  saved    name  label_difference  \n",
       "12  a few seconds after   const          0.000000  \n",
       "13  a few seconds after  random          1.341701  \n",
       "14      3 minutes after    shap          2.307282  \n",
       "15      4 minutes after    lime          0.786060  "
      ]
     },
     "execution_count": 20,
     "metadata": {},
     "output_type": "execute_result"
    }
   ],
   "source": [
    "present_metrics('contrastivity')"
   ]
  },
  {
   "cell_type": "code",
   "execution_count": 21,
   "metadata": {},
   "outputs": [
    {
     "data": {
      "text/html": [
       "<div>\n",
       "<style scoped>\n",
       "    .dataframe tbody tr th:only-of-type {\n",
       "        vertical-align: middle;\n",
       "    }\n",
       "\n",
       "    .dataframe tbody tr th {\n",
       "        vertical-align: top;\n",
       "    }\n",
       "\n",
       "    .dataframe thead th {\n",
       "        text-align: right;\n",
       "    }\n",
       "</style>\n",
       "<table border=\"1\" class=\"dataframe\">\n",
       "  <thead>\n",
       "    <tr style=\"text-align: right;\">\n",
       "      <th></th>\n",
       "      <th>line</th>\n",
       "      <th>num</th>\n",
       "      <th>created_at</th>\n",
       "      <th>saved</th>\n",
       "      <th>other_disagreement</th>\n",
       "      <th>name</th>\n",
       "    </tr>\n",
       "  </thead>\n",
       "  <tbody>\n",
       "    <tr>\n",
       "      <th>0</th>\n",
       "      <td>repo\\coherence</td>\n",
       "      <td>0</td>\n",
       "      <td>2022-12-06 11:22:13.875656+00:00</td>\n",
       "      <td>3 minutes after</td>\n",
       "      <td>1.952203</td>\n",
       "      <td>const</td>\n",
       "    </tr>\n",
       "    <tr>\n",
       "      <th>1</th>\n",
       "      <td>repo\\coherence</td>\n",
       "      <td>1</td>\n",
       "      <td>2022-12-06 11:22:13.875656+00:00</td>\n",
       "      <td>7 minutes after</td>\n",
       "      <td>1.368040</td>\n",
       "      <td>random</td>\n",
       "    </tr>\n",
       "    <tr>\n",
       "      <th>2</th>\n",
       "      <td>repo\\coherence</td>\n",
       "      <td>2</td>\n",
       "      <td>2022-12-06 11:22:13.875656+00:00</td>\n",
       "      <td>11 minutes after</td>\n",
       "      <td>1.295698</td>\n",
       "      <td>shap</td>\n",
       "    </tr>\n",
       "    <tr>\n",
       "      <th>3</th>\n",
       "      <td>repo\\coherence</td>\n",
       "      <td>3</td>\n",
       "      <td>2022-12-06 11:22:13.875656+00:00</td>\n",
       "      <td>15 minutes after</td>\n",
       "      <td>1.319897</td>\n",
       "      <td>lime</td>\n",
       "    </tr>\n",
       "  </tbody>\n",
       "</table>\n",
       "</div>"
      ],
      "text/plain": [
       "             line  num                       created_at             saved  \\\n",
       "0  repo\\coherence    0 2022-12-06 11:22:13.875656+00:00   3 minutes after   \n",
       "1  repo\\coherence    1 2022-12-06 11:22:13.875656+00:00   7 minutes after   \n",
       "2  repo\\coherence    2 2022-12-06 11:22:13.875656+00:00  11 minutes after   \n",
       "3  repo\\coherence    3 2022-12-06 11:22:13.875656+00:00  15 minutes after   \n",
       "\n",
       "   other_disagreement    name  \n",
       "0            1.952203   const  \n",
       "1            1.368040  random  \n",
       "2            1.295698    shap  \n",
       "3            1.319897    lime  "
      ]
     },
     "execution_count": 21,
     "metadata": {},
     "output_type": "execute_result"
    }
   ],
   "source": [
    "present_metrics('coherence')"
   ]
  },
  {
   "cell_type": "code",
   "execution_count": 22,
   "metadata": {},
   "outputs": [
    {
     "data": {
      "text/html": [
       "<div>\n",
       "<style scoped>\n",
       "    .dataframe tbody tr th:only-of-type {\n",
       "        vertical-align: middle;\n",
       "    }\n",
       "\n",
       "    .dataframe tbody tr th {\n",
       "        vertical-align: top;\n",
       "    }\n",
       "\n",
       "    .dataframe thead th {\n",
       "        text-align: right;\n",
       "    }\n",
       "</style>\n",
       "<table border=\"1\" class=\"dataframe\">\n",
       "  <thead>\n",
       "    <tr style=\"text-align: right;\">\n",
       "      <th></th>\n",
       "      <th>line</th>\n",
       "      <th>num</th>\n",
       "      <th>created_at</th>\n",
       "      <th>saved</th>\n",
       "      <th>name</th>\n",
       "      <th>sparsity</th>\n",
       "    </tr>\n",
       "  </thead>\n",
       "  <tbody>\n",
       "    <tr>\n",
       "      <th>4</th>\n",
       "      <td>repo\\compactness</td>\n",
       "      <td>0</td>\n",
       "      <td>2022-12-06 11:38:02.598716+00:00</td>\n",
       "      <td>a few seconds after</td>\n",
       "      <td>const</td>\n",
       "      <td>0.000000</td>\n",
       "    </tr>\n",
       "    <tr>\n",
       "      <th>5</th>\n",
       "      <td>repo\\compactness</td>\n",
       "      <td>1</td>\n",
       "      <td>2022-12-06 11:38:02.598716+00:00</td>\n",
       "      <td>a few seconds after</td>\n",
       "      <td>random</td>\n",
       "      <td>0.325364</td>\n",
       "    </tr>\n",
       "    <tr>\n",
       "      <th>6</th>\n",
       "      <td>repo\\compactness</td>\n",
       "      <td>2</td>\n",
       "      <td>2022-12-06 11:38:02.598716+00:00</td>\n",
       "      <td>3 minutes after</td>\n",
       "      <td>shap</td>\n",
       "      <td>0.138754</td>\n",
       "    </tr>\n",
       "    <tr>\n",
       "      <th>7</th>\n",
       "      <td>repo\\compactness</td>\n",
       "      <td>3</td>\n",
       "      <td>2022-12-06 11:38:02.598716+00:00</td>\n",
       "      <td>4 minutes after</td>\n",
       "      <td>lime</td>\n",
       "      <td>0.250376</td>\n",
       "    </tr>\n",
       "  </tbody>\n",
       "</table>\n",
       "</div>"
      ],
      "text/plain": [
       "               line  num                       created_at  \\\n",
       "4  repo\\compactness    0 2022-12-06 11:38:02.598716+00:00   \n",
       "5  repo\\compactness    1 2022-12-06 11:38:02.598716+00:00   \n",
       "6  repo\\compactness    2 2022-12-06 11:38:02.598716+00:00   \n",
       "7  repo\\compactness    3 2022-12-06 11:38:02.598716+00:00   \n",
       "\n",
       "                 saved    name  sparsity  \n",
       "4  a few seconds after   const  0.000000  \n",
       "5  a few seconds after  random  0.325364  \n",
       "6      3 minutes after    shap  0.138754  \n",
       "7      4 minutes after    lime  0.250376  "
      ]
     },
     "execution_count": 22,
     "metadata": {},
     "output_type": "execute_result"
    }
   ],
   "source": [
    "present_metrics('compactness')"
   ]
  },
  {
   "cell_type": "code",
   "execution_count": 23,
   "metadata": {},
   "outputs": [
    {
     "data": {
      "text/html": [
       "<div>\n",
       "<style scoped>\n",
       "    .dataframe tbody tr th:only-of-type {\n",
       "        vertical-align: middle;\n",
       "    }\n",
       "\n",
       "    .dataframe tbody tr th {\n",
       "        vertical-align: top;\n",
       "    }\n",
       "\n",
       "    .dataframe thead th {\n",
       "        text-align: right;\n",
       "    }\n",
       "</style>\n",
       "<table border=\"1\" class=\"dataframe\">\n",
       "  <thead>\n",
       "    <tr style=\"text-align: right;\">\n",
       "      <th></th>\n",
       "      <th>line</th>\n",
       "      <th>num</th>\n",
       "      <th>created_at</th>\n",
       "      <th>saved</th>\n",
       "      <th>name</th>\n",
       "      <th>covariate_regularity</th>\n",
       "    </tr>\n",
       "  </thead>\n",
       "  <tbody>\n",
       "    <tr>\n",
       "      <th>20</th>\n",
       "      <td>repo\\covariate_complexity</td>\n",
       "      <td>0</td>\n",
       "      <td>2022-12-06 11:42:49.446373+00:00</td>\n",
       "      <td>a few seconds after</td>\n",
       "      <td>const</td>\n",
       "      <td>-0.000144</td>\n",
       "    </tr>\n",
       "    <tr>\n",
       "      <th>21</th>\n",
       "      <td>repo\\covariate_complexity</td>\n",
       "      <td>1</td>\n",
       "      <td>2022-12-06 11:42:49.446373+00:00</td>\n",
       "      <td>a few seconds after</td>\n",
       "      <td>random</td>\n",
       "      <td>35.028072</td>\n",
       "    </tr>\n",
       "    <tr>\n",
       "      <th>22</th>\n",
       "      <td>repo\\covariate_complexity</td>\n",
       "      <td>2</td>\n",
       "      <td>2022-12-06 11:42:49.446373+00:00</td>\n",
       "      <td>3 minutes after</td>\n",
       "      <td>shap</td>\n",
       "      <td>46.797768</td>\n",
       "    </tr>\n",
       "    <tr>\n",
       "      <th>23</th>\n",
       "      <td>repo\\covariate_complexity</td>\n",
       "      <td>3</td>\n",
       "      <td>2022-12-06 11:42:49.446373+00:00</td>\n",
       "      <td>4 minutes after</td>\n",
       "      <td>lime</td>\n",
       "      <td>43.932423</td>\n",
       "    </tr>\n",
       "  </tbody>\n",
       "</table>\n",
       "</div>"
      ],
      "text/plain": [
       "                         line  num                       created_at  \\\n",
       "20  repo\\covariate_complexity    0 2022-12-06 11:42:49.446373+00:00   \n",
       "21  repo\\covariate_complexity    1 2022-12-06 11:42:49.446373+00:00   \n",
       "22  repo\\covariate_complexity    2 2022-12-06 11:42:49.446373+00:00   \n",
       "23  repo\\covariate_complexity    3 2022-12-06 11:42:49.446373+00:00   \n",
       "\n",
       "                  saved    name  covariate_regularity  \n",
       "20  a few seconds after   const             -0.000144  \n",
       "21  a few seconds after  random             35.028072  \n",
       "22      3 minutes after    shap             46.797768  \n",
       "23      4 minutes after    lime             43.932423  "
      ]
     },
     "execution_count": 23,
     "metadata": {},
     "output_type": "execute_result"
    }
   ],
   "source": [
    "present_metrics('covariate_complexity')"
   ]
  }
 ],
 "metadata": {
  "kernelspec": {
   "display_name": "Python 3.8.10 ('venv3.8': venv)",
   "language": "python",
   "name": "python3"
  },
  "language_info": {
   "codemirror_mode": {
    "name": "ipython",
    "version": 3
   },
   "file_extension": ".py",
   "mimetype": "text/x-python",
   "name": "python",
   "nbconvert_exporter": "python",
   "pygments_lexer": "ipython3",
   "version": "3.8.10"
  },
  "orig_nbformat": 4,
  "vscode": {
   "interpreter": {
    "hash": "7bb2890174899d79f80719b5dd106e54858d3d485c376b2d584da9fed4042585"
   }
  }
 },
 "nbformat": 4,
 "nbformat_minor": 2
}
